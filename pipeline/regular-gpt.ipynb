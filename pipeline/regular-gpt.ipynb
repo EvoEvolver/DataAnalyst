{
 "cells": [
  {
   "cell_type": "code",
   "execution_count": 202,
   "metadata": {},
   "outputs": [],
   "source": [
    "import json\n",
    "from fibers.model.chat import Chat\n",
    "from shortener import extract_JSON_structure"
   ]
  },
  {
   "cell_type": "code",
   "execution_count": 203,
   "metadata": {},
   "outputs": [
    {
     "name": "stdout",
     "output_type": "stream",
     "text": [
      "{'games': [{'_id': {'$oid': '52f587eeb42a75c4264022c1'}, 'teams': [{'name': 'Los Angeles Lakers', 'abbreviation': 'LAL', 'score': 105, 'home': False, 'won': 1, 'results': {'ast': 27, 'blk': 5, 'drb': 30, 'fg': 41, 'fg3': 7, 'fg3_pct': '.292', 'fg3a': 24, 'fg_pct': '.398', 'fga': 103, 'ft': 16, 'ft_pct': '.593', 'fta': 27, 'mp': 290, 'orb': 21, 'pf': 20, 'plus_minus': '', 'pts': 105, 'stl': 12, 'tov': 11, 'trb': 51}, 'city': 'Los Angeles'}, {'name': 'Portland Trail Blazers', 'abbreviation': 'POR', 'score': 104, 'home': True, 'won': 0, 'results': {'ast': 28, 'blk': 5, 'drb': 41, 'fg': 44, 'fg3': 4, 'fg3_pct': '.364', 'fg3a': 11, 'fg_pct': '.484', 'fga': 91, 'ft': 12, 'ft_pct': '.667', 'fta': 18, 'mp': 290, 'orb': 14, 'pf': 24, 'plus_minus': '', 'pts': 104, 'stl': 6, 'tov': 19, 'trb': 55}, 'city': 'Portland'}], 'date': {'$date': '2004-04-14T04:00:00.000+0000'}}, {'_id': {'$oid': '52f587efb42a75c4264022c2'}, 'teams': [{'name': 'San Antonio Spurs', 'abbreviation': 'SAS', 'score': 93, 'home': True, 'won': 1, 'results': {'ast': 15, 'blk': 9, 'drb': 45, 'fg': 28, 'fg3': 1, 'fg3_pct': '.100', 'fg3a': 10, 'fg_pct': '.424', 'fga': 66, 'ft': 36, 'ft_pct': '.679', 'fta': 53, 'mp': 240, 'orb': 13, 'pf': 23, 'plus_minus': '', 'pts': 93, 'stl': 12, 'tov': 18, 'trb': 58}, 'city': 'San Antonio'}, {'name': 'Denver Nuggets', 'abbreviation': 'DEN', 'score': 67, 'home': False, 'won': 0, 'results': {'ast': 11, 'blk': 1, 'drb': 33, 'fg': 27, 'fg3': 2, 'fg3_pct': '.222', 'fg3a': 9, 'fg_pct': '.325', 'fga': 83, 'ft': 11, 'ft_pct': '.611', 'fta': 18, 'mp': 240, 'orb': 14, 'pf': 34, 'plus_minus': '', 'pts': 67, 'stl': 7, 'tov': 17, 'trb': 47}, 'city': 'Denver'}], 'date': {'$date': '2004-04-14T04:00:00.000+0000'}}, {'_id': {'$oid': '52f587f0b42a75c4264022c3'}, 'teams': [{'name': 'Phoenix Suns', 'abbreviation': 'PHO', 'score': 89, 'home': False, 'won': 1, 'results': {'ast': 18, 'blk': 8, 'drb': 28, 'fg': 34, 'fg3': 7, 'fg3_pct': '.438', 'fg3a': 16, 'fg_pct': '.479', 'fga': 71, 'ft': 14, 'ft_pct': '.609', 'fta': 23, 'mp': 240, 'orb': 11, 'pf': 29, 'plus_minus': '', 'pts': 89, 'stl': 9, 'tov': 20, 'trb': 39}, 'city': 'Phoenix'}, {'name': 'Utah Jazz', 'abbreviation': 'UTA', 'score': 84, 'home': True, 'won': 0, 'results': {'ast': 20, 'blk': 8, 'drb': 27, 'fg': 32, 'fg3': 4, 'fg3_pct': '.267', 'fg3a': 15, 'fg_pct': '.400', 'fga': 80, 'ft': 16, 'ft_pct': '.593', 'fta': 27, 'mp': 240, 'orb': 16, 'pf': 23, 'plus_minus': '', 'pts': 84, 'stl': 9, 'tov': 18, 'trb': 43}, 'city': 'Utah'}], 'date': {'$date': '2004-04-14T04:00:00.000+0000'}}, {'_id': {'$oid': '52f587f0b42a75c4264022c4'}, 'teams': [{'name': 'New Orleans Hornets', 'abbreviation': 'NOH', 'score': 94, 'home': False, 'won': 1, 'results': {'ast': 24, 'blk': 3, 'drb': 32, 'fg': 37, 'fg3': 8, 'fg3_pct': '.364', 'fg3a': 22, 'fg_pct': '.451', 'fga': 82, 'ft': 12, 'ft_pct': '.600', 'fta': 20, 'mp': 240, 'orb': 16, 'pf': 20, 'plus_minus': '', 'pts': 94, 'stl': 9, 'tov': 13, 'trb': 48}, 'city': 'New Orleans'}, {'name': 'Washington Wizards', 'abbreviation': 'WAS', 'score': 78, 'home': True, 'won': 0, 'results': {'ast': 13, 'blk': 2, 'drb': 30, 'fg': 27, 'fg3': 4, 'fg3_pct': '.211', 'fg3a': 19, 'fg_pct': '.375', 'fga': 72, 'ft': 20, 'ft_pct': '.714', 'fta': 28, 'mp': 240, 'orb': 9, 'pf': 18, 'plus_minus': '', 'pts': 78, 'stl': 8, 'tov': 14, 'trb': 39}, 'city': 'Washington'}], 'date': {'$date': '2004-04-14T04:00:00.000+0000'}}]}\n"
     ]
    }
   ],
   "source": [
    "# Get the JSONs and user request\n",
    "\n",
    "# flag\n",
    "shortenJSON = False\n",
    "\n",
    "input = None\n",
    "json_obj = None\n",
    "with open(\"../mockData/Level 2/nba_games/nba_input.json\", 'r') as json_file:\n",
    "    if shortenJSON:\n",
    "        json_obj = extract_JSON_structure(json_file, 10000000, 15)\n",
    "    else:\n",
    "        json_obj = json.load(json_file)\n",
    "\n",
    "    # For nba games \n",
    "    del json_obj[\"games\"][0][\"teams\"][0][\"players\"]  \n",
    "    del json_obj[\"games\"][0][\"teams\"][1][\"players\"]  \n",
    "    del json_obj[\"games\"][1][\"teams\"][0][\"players\"]  \n",
    "    del json_obj[\"games\"][1][\"teams\"][1][\"players\"]  \n",
    "    del json_obj[\"games\"][2][\"teams\"][0][\"players\"]  \n",
    "    del json_obj[\"games\"][2][\"teams\"][1][\"players\"]  \n",
    "    del json_obj[\"games\"][3][\"teams\"][0][\"players\"]  \n",
    "    del json_obj[\"games\"][3][\"teams\"][1][\"players\"]    \n",
    "input_str = json.dumps(json_obj)\n",
    "input_json = json_obj\n",
    "\n",
    "print(input_json)\n",
    "\n",
    "user_request = \"What is the average percent increase in turnovers from a winning team to losing team in a game?\"\n",
    "\n"
   ]
  },
  {
   "cell_type": "code",
   "execution_count": 204,
   "metadata": {},
   "outputs": [
    {
     "name": "stdout",
     "output_type": "stream",
     "text": [
      "```python\n",
      "def generate_answer(input_json):\n",
      "    total_percent_increase = 0\n",
      "    num_games = 0\n",
      "\n",
      "    for game in input_json['games']:\n",
      "        winning_team = max(game['teams'], key=lambda x: x['score'])\n",
      "        losing_team = min(game['teams'], key=lambda x: x['score'])\n",
      "        \n",
      "        winning_turnovers = winning_team['results']['tov']\n",
      "        losing_turnovers = losing_team['results']['tov']\n",
      "        \n",
      "        percent_increase = ((losing_turnovers - winning_turnovers) / winning_turnovers) * 100\n",
      "        total_percent_increase += abs(percent_increase)\n",
      "        num_games += 1\n",
      "    \n",
      "    average_percent_increase = total_percent_increase / num_games\n",
      "    \n",
      "    return average_percent_increase\n",
      "```\n"
     ]
    }
   ],
   "source": [
    "chat = Chat(\"You are a helpful AI assistant\")\n",
    "\n",
    "message = (\n",
    "\n",
    "    f\"Consider the following JSON: {input_str}\"\n",
    "\n",
    "    f\"{user_request} Write me a function called generate_answer which takes in an input JSON as a dictionary that can do it. Think it through step by step.\"\n",
    "    #f\"{user_request} Just calculate the answer yourself and give it to me, I don't wany any code. Think it through step by step\"\n",
    "    f\"Do not provide any example usage or explanation. Do not use any modules that would need to be imported. \\n\"\n",
    "    f\"Begin the function with ```python and end it with ```\\n\"\n",
    ")\n",
    "\n",
    "# Idea: add \"think it through step by step\" to the message\n",
    "\n",
    "chat.add_user_message(message)\n",
    "output = chat.complete_chat()\n",
    "\n",
    "print(output)\n"
   ]
  },
  {
   "cell_type": "code",
   "execution_count": 205,
   "metadata": {},
   "outputs": [
    {
     "name": "stdout",
     "output_type": "stream",
     "text": [
      "def generate_answer(input_json):\n",
      "    total_percent_increase = 0\n",
      "    num_games = 0\n",
      "\n",
      "    for game in input_json['games']:\n",
      "        winning_team = max(game['teams'], key=lambda x: x['score'])\n",
      "        losing_team = min(game['teams'], key=lambda x: x['score'])\n",
      "        \n",
      "        winning_turnovers = winning_team['results']['tov']\n",
      "        losing_turnovers = losing_team['results']['tov']\n",
      "        \n",
      "        percent_increase = ((losing_turnovers - winning_turnovers) / winning_turnovers) * 100\n",
      "        total_percent_increase += abs(percent_increase)\n",
      "        num_games += 1\n",
      "    \n",
      "    average_percent_increase = total_percent_increase / num_games\n",
      "    \n",
      "    return average_percent_increase\n",
      "\n"
     ]
    }
   ],
   "source": [
    " # Extract the code from the response\n",
    "\n",
    "res = output.split(\"```python\\n\")\n",
    "res = res[1].split(\"```\")\n",
    "code = res[0]\n",
    "print(code)"
   ]
  },
  {
   "cell_type": "code",
   "execution_count": 206,
   "metadata": {},
   "outputs": [],
   "source": [
    "# Run the code and get the function\n",
    "exec(code)\n",
    "analyze_data = eval('generate_answer')"
   ]
  },
  {
   "cell_type": "code",
   "execution_count": 207,
   "metadata": {},
   "outputs": [
    {
     "name": "stdout",
     "output_type": "stream",
     "text": [
      "23.993783993783996\n"
     ]
    }
   ],
   "source": [
    "res = analyze_data(input_json)\n",
    "print(res)"
   ]
  }
 ],
 "metadata": {
  "kernelspec": {
   "display_name": "base",
   "language": "python",
   "name": "python3"
  },
  "language_info": {
   "codemirror_mode": {
    "name": "ipython",
    "version": 3
   },
   "file_extension": ".py",
   "mimetype": "text/x-python",
   "name": "python",
   "nbconvert_exporter": "python",
   "pygments_lexer": "ipython3",
   "version": "3.11.5"
  }
 },
 "nbformat": 4,
 "nbformat_minor": 2
}
