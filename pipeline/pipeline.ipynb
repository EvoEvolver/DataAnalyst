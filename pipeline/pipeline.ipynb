{
 "cells": [
  {
   "cell_type": "code",
   "execution_count": 313,
   "metadata": {},
   "outputs": [],
   "source": [
    "import json\n",
    "from fibers.model.chat import Chat\n",
    "from shortener import extract_JSON_structure"
   ]
  },
  {
   "cell_type": "code",
   "execution_count": 314,
   "metadata": {},
   "outputs": [
    {
     "name": "stdout",
     "output_type": "stream",
     "text": [
      "Input: \n",
      "{\"games\": [{\"_id\": {\"$oid\": \"52f587eeb42a75c4264022c1\"}, \"teams\": [{\"name\": \"Los Angeles Lakers\", \"abbreviation\": \"LAL\", \"score\": 105, \"home\": false, \"won\": 1, \"results\": {\"ast\": 27, \"blk\": 5, \"drb\": 30, \"fg\": 41, \"fg3\": 7, \"fg3_pct\": \".292\", \"fg3a\": 24, \"fg_pct\": \".398\", \"fga\": 103, \"ft\": 16, \"ft_pct\": \".593\", \"fta\": 27, \"mp\": 290, \"orb\": 21, \"pf\": 20, \"plus_minus\": \"\", \"pts\": 105, \"stl\": 12, \"tov\": 11, \"trb\": 51}, \"players\": [{\"ast\": 5, \"blk\": 1, \"drb\": 8, \"fg\": 14, \"fg3\": 4, \"fg3_pct\": \".400\", \"fg3a\": 10, \"fg_pct\": \".452\", \"fga\": 31, \"ft\": 5, \"ft_pct\": \".556\", \"fta\": 9, \"mp\": \"53:00\", \"orb\": 0, \"pf\": 4, \"player\": \"Kobe Bryant\", \"plus_minus\": -1, \"pts\": 37, \"stl\": 1, \"tov\": 2, \"trb\": 8}, {\"ast\": 5, \"blk\": 4, \"drb\": 9, \"fg\": 12, \"fg3\": 0, \"fg3_pct\": \"\", \"fg3a\": 0, \"fg_pct\": \".600\", \"fga\": 20, \"ft\": 1, \"ft_pct\": \".125\", \"fta\": 8, \"mp\": \"48:00\", \"orb\": 5, \"pf\": 6, \"player\": \"Shaquille O'Neal\", \"plus_minus\": -2, \"pts\": 25, \"stl\": 4, \"tov\": 2, \"trb\": 14}, {\"ast\": 6, \"blk\": 0, \"drb\": 0, \"fg\": 2, \"fg3\": 1, \"fg3_pct\": \".200\", \"fg3a\": 5, \"fg_pct\": \".200\", \"fga\": 10, \"ft\": 0, \"ft_pct\": \"\", \"fta\": 0, \"mp\": \"40:00\", \"orb\": 1, \"pf\": 2, \"player\": \"Gary Payton\", \"plus_minus\": -6, \"pts\": 5, \"stl\": 0, \"tov\": 0, \"trb\": 1}, {\"ast\": 2, \"blk\": 0, \"drb\": 2, \"fg\": 1, \"fg3\": 0, \"fg3_pct\": \"\", \"fg3a\": 0, \"fg_pct\": \".200\", \"fga\": 5, \"ft\": 2, \"ft_pct\": \"1.000\", \"fta\": 2, \"mp\": \"15:00\", \"orb\": 3, \"pf\": 1, \"player\": \"Karl Malone\", \"plus_minus\": -5, \"pts\": 4, \"stl\": 0, \"tov\": 1, \"trb\": 5}, {\"ast\": 0, \"blk\": 0, \"drb\": 4, \"fg\": 2, \"fg3\": 1, \"fg3_pct\": \".250\", \"fg3a\": 4, \"fg_pct\": \".333\", \"fga\": 6, \"ft\": 0, \"ft_pct\": \"\", \"fta\": 0, \"mp\": \"14:00\", \"orb\": 2, \"pf\": 1, \"player\": \"Devean George\", \"plus_minus\": -4, \"pts\": 5, \"stl\": 0, \"tov\": 1, \"trb\": 6}, {\"ast\": 6, \"blk\": 0, \"drb\": 1, \"fg\": 2, \"fg3\": 1, \"fg3_pct\": \".333\", \"fg3a\": 3, \"fg_pct\": \".250\", \"fga\": 8, \"ft\": 4, \"ft_pct\": \"1.000\", \"fta\": 4, \"mp\": \"42:00\", \"orb\": 0, \"pf\": 0, \"player\": \"Derek Fisher\", \"plus_minus\": \"+10\", \"pts\": 9, \"stl\": 4, \"tov\": 1, \"trb\": 1}, {\"ast\": 1, \"blk\": 0, \"drb\": 5, \"fg\": 3, \"fg3\": 0, \"fg3_pct\": \"\", \"fg3a\": 0, \"fg_pct\": \".231\", \"fga\": 13, \"ft\": 4, \"ft_pct\": \"1.000\", \"fta\": 4, \"mp\": \"41:00\", \"orb\": 9, \"pf\": 5, \"player\": \"Stanislav Medvedenko\", \"plus_minus\": \"+6\", \"pts\": 10, \"stl\": 3, \"tov\": 2, \"trb\": 14}, {\"ast\": 0, \"blk\": 0, \"drb\": 0, \"fg\": 2, \"fg3\": 0, \"fg3_pct\": \".000\", \"fg3a\": 1, \"fg_pct\": \".667\", \"fga\": 3, \"ft\": 0, \"ft_pct\": \"\", \"fta\": 0, \"mp\": \"14:00\", \"orb\": 0, \"pf\": 1, \"player\": \"Kareem Rush\", \"plus_minus\": \"+10\", \"pts\": 4, \"stl\": 0, \"tov\": 1, \"trb\": 0}, {\"ast\": 2, \"blk\": 0, \"drb\": 1, \"fg\": 1, \"fg3\": 0, \"fg3_pct\": \".000\", \"fg3a\": 1, \"fg_pct\": \".500\", \"fga\": 2, \"ft\": 0, \"ft_pct\": \"\", \"fta\": 0, \"mp\": \"12:00\", \"orb\": 0, \"pf\": 0, \"player\": \"Luke Walton\", \"plus_minus\": -3, \"pts\": 2, \"stl\": 0, \"tov\": 1, \"trb\": 1}, {\"ast\": 0, \"blk\": 0, \"drb\": 0, \"fg\": 2, \"fg3\": 0, \"fg3_pct\": \"\", \"fg3a\": 0, \"fg_pct\": \".400\", \"fga\": 5, \"ft\": 0, \"ft_pct\": \"\", \"fta\": 0, \"mp\": \"11:00\", \"orb\": 1, \"pf\": 0, \"player\": \"Brian Cook\", \"plus_minus\": 0, \"pts\": 4, \"stl\": 0, \"tov\": 0, \"trb\": 1}], \"city\": \"Los Angeles\"}, {\"name\": \"Portland Trail Blazers\", \"abbreviation\": \"POR\", \"score\": 104, \"home\": true, \"won\": 0, \"results\": {\"ast\": 28, \"blk\": 5, \"drb\": 41, \"fg\": 44, \"fg3\": 4, \"fg3_pct\": \".364\", \"fg3a\": 11, \"fg_pct\": \".484\", \"fga\": 91, \"ft\": 12, \"ft_pct\": \".667\", \"fta\": 18, \"mp\": 290, \"orb\": 14, \"pf\": 24, \"plus_minus\": \"\", \"pts\": 104, \"stl\": 6, \"tov\": 19, \"trb\": 55}, \"players\": [{\"ast\": 2, \"blk\": 5, \"drb\": 6, \"fg\": 6, \"fg3\": 0, \"fg3_pct\": \"\", \"fg3a\": 0, \"fg_pct\": \".750\", \"fga\": 8, \"ft\": 0, \"ft_pct\": \"\", \"fta\": 0, \"mp\": \"47:00\", \"orb\": 4, \"pf\": 4, \"player\": \"Theo Ratliff\", \"plus_minus\": \"+1\", \"pts\": 12, \"stl\": 0, \"tov\": 2, \"trb\": 10}, {\"ast\": 12, \"blk\": 0, \"drb\": 6, \"fg\": 6, \"fg3\": 1, \"fg3_pct\": \".333\", \"fg3a\": 3, \"fg_pct\": \".429\", \"fga\": 14, \"ft\": 0, \"ft_pct\": \"\", \"fta\": 0, \"mp\": \"45:00\", \"orb\": 0, \"pf\": 3, \"player\": \"Damon Stoudamire\", \"plus_minus\": -2, \"pts\": 13, \"stl\": 2, \"tov\": 4, \"trb\": 6}, {\"ast\": 3, \"blk\": 0, \"drb\": 3, \"fg\": 7, \"fg3\": 1, \"fg3_pct\": \".333\", \"fg3a\": 3, \"fg_pct\": \".583\", \"fga\": 12, \"ft\": 2, \"ft_pct\": \"1.000\", \"fta\": 2, \"mp\": \"43:00\", \"orb\": 1, \"pf\": 2, \"player\": \"Derek Anderson\", \"plus_minus\": \"+1\", \"pts\": 17, \"stl\": 1, \"tov\": 1, \"trb\": 4}, {\"ast\": 1, \"blk\": 0, \"drb\": 14, \"fg\": 9, \"fg3\": 0, \"fg3_pct\": \"\", \"fg3a\": 0, \"fg_pct\": \".409\", \"fga\": 22, \"ft\": 3, \"ft_pct\": \".600\", \"fta\": 5, \"mp\": \"41:00\", \"orb\": 4, \"pf\": 4, \"player\": \"Zach Randolph\", \"plus_minus\": \"+4\", \"pts\": 21, \"stl\": 1, \"tov\": 5, \"trb\": 18}, {\"ast\": 4, \"blk\": 0, \"drb\": 5, \"fg\": 7, \"fg3\": 0, \"fg3_pct\": \".000\", \"fg3a\": 1, \"fg_pct\": \".500\", \"fga\": 14, \"ft\": 2, \"ft_pct\": \"1.000\", \"fta\": 2, \"mp\": \"36:00\", \"orb\": 2, \"pf\": 3, \"player\": \"Darius Miles\", \"plus_minus\": \"+9\", \"pts\": 16, \"stl\": 1, \"tov\": 1, \"trb\": 7}, {\"ast\": 2, \"blk\": 0, \"drb\": 3, \"fg\": 1, \"fg3\": 0, \"fg3_pct\": \"\", \"fg3a\": 0, \"fg_pct\": \".500\", \"fga\": 2, \"ft\": 0, \"ft_pct\": \".000\", \"fta\": 3, \"mp\": \"20:00\", \"orb\": 2, \"pf\": 4, \"player\": \"Ruben Patterson\", \"plus_minus\": -9, \"pts\": 2, \"stl\": 0, \"tov\": 2, \"trb\": 5}, {\"ast\": 1, \"blk\": 0, \"drb\": 2, \"fg\": 2, \"fg3\": 0, \"fg3_pct\": \"\", \"fg3a\": 0, \"fg_pct\": \".400\", \"fga\": 5, \"ft\": 4, \"ft_pct\": \"1.000\", \"fta\": 4, \"mp\": \"16:00\", \"orb\": 0, \"pf\": 1, \"player\": \"Shareef Abdur-Rahim\", \"plus_minus\": -2, \"pts\": 8, \"stl\": 0, \"tov\": 2, \"trb\": 2}, {\"ast\": 2, \"blk\": 0, \"drb\": 0, \"fg\": 1, \"fg3\": 1, \"fg3_pct\": \".333\", \"fg3a\": 3, \"fg_pct\": \".333\", \"fga\": 3, \"ft\": 0, \"ft_pct\": \"\", \"fta\": 0, \"mp\": \"14:00\", \"orb\": 0, \"pf\": 0, \"player\": \"Dan Dickau\", \"plus_minus\": \"+1\", \"pts\": 3, \"stl\": 0, \"tov\": 2, \"trb\": 0}, {\"ast\": 1, \"blk\": 0, \"drb\": 0, \"fg\": 1, \"fg3\": 0, \"fg3_pct\": \"\", \"fg3a\": 0, \"fg_pct\": \".333\", \"fga\": 3, \"ft\": 0, \"ft_pct\": \"\", \"fta\": 0, \"mp\": \"12:00\", \"orb\": 0, \"pf\": 1, \"player\": \"Dale Davis\", \"plus_minus\": -2, \"pts\": 2, \"stl\": 0, \"tov\": 0, \"trb\": 0}, {\"ast\": 0, \"blk\": 0, \"drb\": 1, \"fg\": 2, \"fg3\": 0, \"fg3_pct\": \"\", \"fg3a\": 0, \"fg_pct\": \".667\", \"fga\": 3, \"ft\": 0, \"ft_pct\": \"\", \"fta\": 0, \"mp\": \"8:00\", \"orb\": 1, \"pf\": 1, \"player\": \"Travis Outlaw\", \"plus_minus\": -6, \"pts\": 4, \"stl\": 1, \"tov\": 0, \"trb\": 2}, {\"ast\": 0, \"blk\": 0, \"drb\": 0, \"fg\": 1, \"fg3\": 1, \"fg3_pct\": \"1.000\", \"fg3a\": 1, \"fg_pct\": \".500\", \"fga\": 2, \"ft\": 0, \"ft_pct\": \"\", \"fta\": 0, \"mp\": \"4:00\", \"orb\": 0, \"pf\": 0, \"player\": \"Desmond Ferguson\", \"plus_minus\": \"+1\", \"pts\": 3, \"stl\": 0, \"tov\": 0, \"trb\": 0}, {\"ast\": 0, \"blk\": 0, \"drb\": 1, \"fg\": 1, \"fg3\": 0, \"fg3_pct\": \"\", \"fg3a\": 0, \"fg_pct\": \".333\", \"fga\": 3, \"ft\": 1, \"ft_pct\": \".500\", \"fta\": 2, \"mp\": \"4:00\", \"orb\": 0, \"pf\": 1, \"player\": \"Qyntel Woods\", \"plus_minus\": -1, \"pts\": 3, \"stl\": 0, \"tov\": 0, \"trb\": 1}], \"city\": \"Portland\"}], \"date\": {\"$date\": \"2004-04-14T04:00:00.000+0000\"}}, {\"_id\": {\"$oid\": \"52f587efb42a75c4264022c2\"}, \"teams\": [{\"name\": \"San Antonio Spurs\", \"abbreviation\": \"SAS\", \"score\": 93, \"home\": true, \"won\": 1, \"results\": {\"ast\": 15, \"blk\": 9, \"drb\": 45, \"fg\": 28, \"fg3\": 1, \"fg3_pct\": \".100\", \"fg3a\": 10, \"fg_pct\": \".424\", \"fga\": 66, \"ft\": 36, \"ft_pct\": \".679\", \"fta\": 53, \"mp\": 240, \"orb\": 13, \"pf\": 23, \"plus_minus\": \"\", \"pts\": 93, \"stl\": 12, \"tov\": 18, \"trb\": 58}, \"players\": [{\"ast\": 4, \"blk\": 3, \"drb\": 13, \"fg\": 7, \"fg3\": 0, \"fg3_pct\": \"\", \"fg3a\": 0, \"fg_pct\": \".700\", \"fga\": 10, \"ft\": 9, \"ft_pct\": \".600\", \"fta\": 15, \"mp\": \"32:00\", \"orb\": 3, \"pf\": 2, \"player\": \"Tim Duncan\", \"plus_minus\": \"+22\", \"pts\": 23, \"stl\": 2, \"tov\": 1, \"trb\": 16}, {\"ast\": 0, \"blk\": 1, \"drb\": 2, \"fg\": 1, \"fg3\": 0, \"fg3_pct\": \".000\", \"fg3a\": 1, \"fg_pct\": \".333\", \"fga\": 3, \"ft\": 2, \"ft_pct\": \".500\", \"fta\": 4, \"mp\": \"32:00\", \"orb\": 1, \"pf\": 2, \"player\": \"Bruce Bowen\", \"plus_minus\": \"+12\", \"pts\": 4, \"stl\": 1, \"tov\": 1, \"trb\": 3}, {\"ast\": 3, \"blk\": 0, \"drb\": 2, \"fg\": 1, \"fg3\": 0, \"fg3_pct\": \".000\", \"fg3a\": 2, \"fg_pct\": \".143\", \"fga\": 7, \"ft\": 9, \"ft_pct\": \".750\", \"fta\": 12, \"mp\": \"27:00\", \"orb\": 1, \"pf\": 1, \"player\": \"Tony Parker\", \"plus_minus\": \"+7\", \"pts\": 11, \"stl\": 1, \"tov\": 1, \"trb\": 3}, {\"ast\": 1, \"blk\": 2, \"drb\": 5, \"fg\": 1, \"fg3\": 0, \"fg3_pct\": \".000\", \"fg3a\": 4, \"fg_pct\": \".111\", \"fga\": 9, \"ft\": 2, \"ft_pct\": \".500\", \"fta\": 4, \"mp\": \"25:00\", \"orb\": 0, \"pf\": 1, \"player\": \"Hedo Turkoglu\", \"plus_minus\": \"+13\", \"pts\": 4, \"stl\": 0, \"tov\": 3, \"trb\": 5}, {\"ast\": 1, \"blk\": 2, \"drb\": 6, \"fg\": 4, \"fg3\": 0, \"fg3_pct\": \"\", \"fg3a\": 0, \"fg_pct\": \".500\", \"fga\": 8, \"ft\": 0, \"ft_pct\": \"\", \"fta\": 0, \"mp\": \"23:00\", \"orb\": 1, \"pf\": 2, \"player\": \"Rasho Nesterovic\", \"plus_minus\": \"+4\", \"pts\": 8, \"stl\": 0, \"tov\": 0, \"trb\": 7}, {\"ast\": 5, \"blk\": 0, \"drb\": 5, \"fg\": 1, \"fg3\": 0, \"fg3_pct\": \".000\", \"fg3a\": 2, \"fg_pct\": \".111\", \"fga\": 9, \"ft\": 4, \"ft_pct\": \"1.000\", \"fta\": 4, \"mp\": \"29:00\", \"orb\": 2, \"pf\": 4, \"player\": \"Manu Ginobili\", \"plus_minus\": \"+10\", \"pts\": 6, \"stl\": 2, \"tov\": 3, \"trb\": 7}, {\"ast\": 0, \"blk\": 0, \"drb\": 0, \"fg\": 3, \"fg3\": 0, \"fg3_pct\": \"\", \"fg3a\": 0, \"fg_pct\": \".750\", \"fga\": 4, \"ft\": 3, \"ft_pct\": \".750\", \"fta\": 4, \"mp\": \"18:00\", \"orb\": 1, \"pf\": 2, \"player\": \"Robert Horry\", \"plus_minus\": \"+2\", \"pts\": 9, \"stl\": 1, \"tov\": 1, \"trb\": 1}, {\"ast\": 0, \"blk\": 0, \"drb\": 5, \"fg\": 2, \"fg3\": 0, \"fg3_pct\": \"\", \"fg3a\": 0, \"fg_pct\": \"1.000\", \"fga\": 2, \"ft\": 4, \"ft_pct\": \"1.000\", \"fta\": 4, \"mp\": \"15:00\", \"orb\": 3, \"pf\": 2, \"player\": \"Malik Rose\", \"plus_minus\": \"+17\", \"pts\": 8, \"stl\": 1, \"tov\": 3, \"trb\": 8}, {\"ast\": 0, \"blk\": 1, \"drb\": 5, \"fg\": 4, \"fg3\": 0, \"fg3_pct\": \"\", \"fg3a\": 0, \"fg_pct\": \".800\", \"fga\": 5, \"ft\": 0, \"ft_pct\": \"\", \"fta\": 0, \"mp\": \"14:00\", \"orb\": 0, \"pf\": 3, \"player\": \"Jason Hart\", \"plus_minus\": \"+18\", \"pts\": 8, \"stl\": 2, \"tov\": 2, \"trb\": 5}, {\"ast\": 0, \"blk\": 0, \"drb\": 1, \"fg\": 1, \"fg3\": 0, \"fg3_pct\": \"\", \"fg3a\": 0, \"fg_pct\": \".333\", \"fga\": 3, \"ft\": 2, \"ft_pct\": \".500\", \"fta\": 4, \"mp\": \"13:00\", \"orb\": 1, \"pf\": 2, \"player\": \"Matt Carroll\", \"plus_minus\": \"+9\", \"pts\": 4, \"stl\": 0, \"tov\": 2, \"trb\": 2}, {\"ast\": 1, \"blk\": 0, \"drb\": 1, \"fg\": 2, \"fg3\": 0, \"fg3_pct\": \"\", \"fg3a\": 0, \"fg_pct\": \".400\", \"fga\": 5, \"ft\": 0, \"ft_pct\": \"\", \"fta\": 0, \"mp\": \"8:00\", \"orb\": 0, \"pf\": 0, \"player\": \"Kevin Willis\", \"plus_minus\": \"+7\", \"pts\": 4, \"stl\": 2, \"tov\": 1, \"trb\": 1}, {\"ast\": 0, \"blk\": 0, \"drb\": 0, \"fg\": 1, \"fg3\": 1, \"fg3_pct\": \"1.000\", \"fg3a\": 1, \"fg_pct\": \"1.000\", \"fga\": 1, \"ft\": 1, \"ft_pct\": \".500\", \"fta\": 2, \"mp\": \"4:00\", \"orb\": 0, \"pf\": 2, \"player\": \"Charlie Ward\", \"plus_minus\": \"+9\", \"pts\": 4, \"stl\": 0, \"tov\": 0, \"trb\": 0}], \"city\": \"San Antonio\"}, {\"name\": \"Denver Nuggets\", \"abbreviation\": \"DEN\", \"score\": 67, \"home\": false, \"won\": 0, \"results\": {\"ast\": 11, \"blk\": 1, \"drb\": 33, \"fg\": 27, \"fg3\": 2, \"fg3_pct\": \".222\", \"fg3a\": 9, \"fg_pct\": \".325\", \"fga\": 83, \"ft\": 11, \"ft_pct\": \".611\", \"fta\": 18, \"mp\": 240, \"orb\": 14, \"pf\": 34, \"plus_minus\": \"\", \"pts\": 67, \"stl\": 7, \"tov\": 17, \"trb\": 47}, \"players\": [{\"ast\": 3, \"blk\": 0, \"drb\": 3, \"fg\": 5, \"fg3\": 0, \"fg3_pct\": \"\", \"fg3a\": 0, \"fg_pct\": \".500\", \"fga\": 10, \"ft\": 1, \"ft_pct\": \".500\", \"fta\": 2, \"mp\": \"27:00\", \"orb\": 0, \"pf\": 4, \"player\": \"Andre Miller\", \"plus_minus\": -10, \"pts\": 11, \"stl\": 0, \"tov\": 1, \"trb\": 3}, {\"ast\": 0, \"blk\": 0, \"drb\": 3, \"fg\": 5, \"fg3\": 1, \"fg3_pct\": \".500\", \"fg3a\": 2, \"fg_pct\": \".333\", \"fga\": 15, \"ft\": 1, \"ft_pct\": \"1.000\", \"fta\": 1, \"mp\": \"26:00\", \"orb\": 1, \"pf\": 1, \"player\": \"Carmelo Anthony\", \"plus_minus\": -9, \"pts\": 12, \"stl\": 0, \"tov\": 1, \"trb\": 4}, {\"ast\": 1, \"blk\": 0, \"drb\": 2, \"fg\": 3, \"fg3\": 0, \"fg3_pct\": \"\", \"fg3a\": 0, \"fg_pct\": \".429\", \"fga\": 7, \"ft\": 4, \"ft_pct\": \"1.000\", \"fta\": 4, \"mp\": \"23:00\", \"orb\": 0, \"pf\": 5, \"player\": \"Nene Hilario\", \"plus_minus\": -5, \"pts\": 10, \"stl\": 4, \"tov\": 3, \"trb\": 2}, {\"ast\": 2, \"blk\": 0, \"drb\": 4, \"fg\": 1, \"fg3\": 0, \"fg3_pct\": \".000\", \"fg3a\": 3, \"fg_pct\": \".167\", \"fga\": 6, \"ft\": 0, \"ft_pct\": \"\", \"fta\": 0, \"mp\": \"21:00\", \"orb\": 0, \"pf\": 2, \"player\": \"Voshon Lenard\", \"plus_minus\": -2, \"pts\": 2, \"stl\": 0, \"tov\": 2, \"trb\": 4}, {\"ast\": 0, \"blk\": 0, \"drb\": 3, \"fg\": 1, \"fg3\": 0, \"fg3_pct\": \"\", \"fg3a\": 0, \"fg_pct\": \".250\", \"fga\": 4, \"ft\": 0, \"ft_pct\": \"\", \"fta\": 0, \"mp\": \"17:00\", \"orb\": 1, \"pf\": 6, \"player\": \"Francisco Elson\", \"plus_minus\": -5, \"pts\": 2, \"stl\": 0, \"tov\": 1, \"trb\": 4}, {\"ast\": 0, \"blk\": 0, \"drb\": 3, \"fg\": 4, \"fg3\": 0, \"fg3_pct\": \".000\", \"fg3a\": 2, \"fg_pct\": \".364\", \"fga\": 11, \"ft\": 2, \"ft_pct\": \".500\", \"fta\": 4, \"mp\": \"23:00\", \"orb\": 1, \"pf\": 0, \"player\": \"Rodney White\", \"plus_minus\": -18, \"pts\": 10, \"stl\": 0, \"tov\": 2, \"trb\": 4}, {\"ast\": 0, \"blk\": 0, \"drb\": 6, \"fg\": 2, \"fg3\": 0, \"fg3_pct\": \"\", \"fg3a\": 0, \"fg_pct\": \".200\", \"fga\": 10, \"ft\": 2, \"ft_pct\": \".500\", \"fta\": 4, \"mp\": \"23:00\", \"orb\": 4, \"pf\": 2, \"player\": \"Nikoloz Tskitishvili\", \"plus_minus\": -18, \"pts\": 6, \"stl\": 0, \"tov\": 2, \"trb\": 10}, {\"ast\": 1, \"blk\": 1, \"drb\": 3, \"fg\": 1, \"fg3\": 0, \"fg3_pct\": \"\", \"fg3a\": 0, \"fg_pct\": \".167\", \"fga\": 6, \"ft\": 1, \"ft_pct\": \".500\", \"fta\": 2, \"mp\": \"22:00\", \"orb\": 2, \"pf\": 5, \"player\": \"Michael Doleac\", \"plus_minus\": -16, \"pts\": 3, \"stl\": 0, \"tov\": 0, \"trb\": 5}, {\"ast\": 0, \"blk\": 0, \"drb\": 3, \"fg\": 0, \"fg3\": 0, \"fg3_pct\": \"\", \"fg3a\": 0, \"fg_pct\": \".000\", \"fga\": 2, \"ft\": 0, \"ft_pct\": \"\", \"fta\": 0, \"mp\": \"22:00\", \"orb\": 3, \"pf\": 4, \"player\": \"Ryan Bowen\", \"plus_minus\": -17, \"pts\": 0, \"stl\": 0, \"tov\": 0, \"trb\": 6}, {\"ast\": 3, \"blk\": 0, \"drb\": 2, \"fg\": 4, \"fg3\": 1, \"fg3_pct\": \".500\", \"fg3a\": 2, \"fg_pct\": \".444\", \"fga\": 9, \"ft\": 0, \"ft_pct\": \"\", \"fta\": 0, \"mp\": \"18:00\", \"orb\": 1, \"pf\": 1, \"player\": \"Earl Boykins\", \"plus_minus\": -9, \"pts\": 9, \"stl\": 2, \"tov\": 1, \"trb\": 3}, {\"ast\": 0, \"blk\": 0, \"drb\": 1, \"fg\": 1, \"fg3\": 0, \"fg3_pct\": \"\", \"fg3a\": 0, \"fg_pct\": \"1.000\", \"fga\": 1, \"ft\": 0, \"ft_pct\": \".000\", \"fta\": 1, \"mp\": \"11:00\", \"orb\": 0, \"pf\": 4, \"player\": \"Mark Pope\", \"plus_minus\": -8, \"pts\": 2, \"stl\": 1, \"tov\": 1, \"trb\": 1}, {\"ast\": 1, \"blk\": 0, \"drb\": 0, \"fg\": 0, \"fg3\": 0, \"fg3_pct\": \"\", \"fg3a\": 0, \"fg_pct\": \".000\", \"fga\": 2, \"ft\": 0, \"ft_pct\": \"\", \"fta\": 0, \"mp\": \"7:00\", \"orb\": 1, \"pf\": 0, \"player\": \"Jeff Trepagnier\", \"plus_minus\": -13, \"pts\": 0, \"stl\": 0, \"tov\": 3, \"trb\": 1}], \"city\": \"Denver\"}], \"date\": {\"$date\": \"2004-04-14T04:00:00.000+0000\"}}, {\"_id\": {\"$oid\": \"52f587f0b42a75c4264022c3\"}, \"teams\": [{\"name\": \"Phoenix Suns\", \"abbreviation\": \"PHO\", \"score\": 89, \"home\": false, \"won\": 1, \"results\": {\"ast\": 18, \"blk\": 8, \"drb\": 28, \"fg\": 34, \"fg3\": 7, \"fg3_pct\": \".438\", \"fg3a\": 16, \"fg_pct\": \".479\", \"fga\": 71, \"ft\": 14, \"ft_pct\": \".609\", \"fta\": 23, \"mp\": 240, \"orb\": 11, \"pf\": 29, \"plus_minus\": \"\", \"pts\": 89, \"stl\": 9, \"tov\": 20, \"trb\": 39}, \"players\": [{\"ast\": 3, \"blk\": 3, \"drb\": 5, \"fg\": 10, \"fg3\": 1, \"fg3_pct\": \"1.000\", \"fg3a\": 1, \"fg_pct\": \".625\", \"fga\": 16, \"ft\": 8, \"ft_pct\": \".571\", \"fta\": 14, \"mp\": \"41:00\", \"orb\": 2, \"pf\": 3, \"player\": \"Amar'e Stoudemire\", \"plus_minus\": \"+15\", \"pts\": 29, \"stl\": 1, \"tov\": 4, \"trb\": 7}, {\"ast\": 5, \"blk\": 0, \"drb\": 1, \"fg\": 3, \"fg3\": 2, \"fg3_pct\": \".333\", \"fg3a\": 6, \"fg_pct\": \".214\", \"fga\": 14, \"ft\": 1, \"ft_pct\": \".500\", \"fta\": 2, \"mp\": \"41:00\", \"orb\": 1, \"pf\": 3, \"player\": \"Joe Johnson\", \"plus_minus\": \"+9\", \"pts\": 9, \"stl\": 2, \"tov\": 4, \"trb\": 2}, {\"ast\": 2, \"blk\": 0, \"drb\": 3, \"fg\": 2, \"fg3\": 1, \"fg3_pct\": \".500\", \"fg3a\": 2, \"fg_pct\": \".286\", \"fga\": 7, \"ft\": 1, \"ft_pct\": \"1.000\", \"fta\": 1, \"mp\": \"35:00\", \"orb\": 1, \"pf\": 6, \"player\": \"Leandro Barbosa\", \"plus_minus\": -1, \"pts\": 6, \"stl\": 2, \"tov\": 2, \"trb\": 4}, {\"ast\": 4, \"blk\": 0, \"drb\": 7, \"fg\": 8, \"fg3\": 1, \"fg3_pct\": \".333\", \"fg3a\": 3, \"fg_pct\": \".571\", \"fga\": 14, \"ft\": 2, \"ft_pct\": \".667\", \"fta\": 3, \"mp\": \"31:00\", \"orb\": 2, \"pf\": 4, \"player\": \"Shawn Marion\", \"plus_minus\": \"+9\", \"pts\": 19, \"stl\": 1, \"tov\": 4, \"trb\": 9}, {\"ast\": 3, \"blk\": 5, \"drb\": 4, \"fg\": 2, \"fg3\": 0, \"fg3_pct\": \"\", \"fg3a\": 0, \"fg_pct\": \".333\", \"fga\": 6, \"ft\": 1, \"ft_pct\": \".500\", \"fta\": 2, \"mp\": \"26:00\", \"orb\": 3, \"pf\": 6, \"player\": \"Antonio McDyess\", \"plus_minus\": \"+4\", \"pts\": 5, \"stl\": 3, \"tov\": 2, \"trb\": 7}, {\"ast\": 0, \"blk\": 0, \"drb\": 5, \"fg\": 3, \"fg3\": 2, \"fg3_pct\": \".500\", \"fg3a\": 4, \"fg_pct\": \".500\", \"fga\": 6, \"ft\": 0, \"ft_pct\": \"\", \"fta\": 0, \"mp\": \"31:00\", \"orb\": 0, \"pf\": 2, \"player\": \"Casey Jacobsen\", \"plus_minus\": -4, \"pts\": 8, \"stl\": 0, \"tov\": 2, \"trb\": 5}, {\"ast\": 1, \"blk\": 0, \"drb\": 1, \"fg\": 3, \"fg3\": 0, \"fg3_pct\": \"\", \"fg3a\": 0, \"fg_pct\": \".600\", \"fga\": 5, \"ft\": 1, \"ft_pct\": \"1.000\", \"fta\": 1, \"mp\": \"19:00\", \"orb\": 1, \"pf\": 3, \"player\": \"Donnell Harvey\", \"plus_minus\": -14, \"pts\": 7, \"stl\": 0, \"tov\": 2, \"trb\": 2}, {\"ast\": 0, \"blk\": 0, \"drb\": 1, \"fg\": 1, \"fg3\": 0, \"fg3_pct\": \"\", \"fg3a\": 0, \"fg_pct\": \"1.000\", \"fga\": 1, \"ft\": 0, \"ft_pct\": \"\", \"fta\": 0, \"mp\": \"9:00\", \"orb\": 1, \"pf\": 2, \"player\": \"Zarko Cabarkapa\", \"plus_minus\": \"+4\", \"pts\": 2, \"stl\": 0, \"tov\": 0, \"trb\": 2}, {\"ast\": 0, \"blk\": 0, \"drb\": 1, \"fg\": 2, \"fg3\": 0, \"fg3_pct\": \"\", \"fg3a\": 0, \"fg_pct\": \"1.000\", \"fga\": 2, \"ft\": 0, \"ft_pct\": \"\", \"fta\": 0, \"mp\": \"7:00\", \"orb\": 0, \"pf\": 0, \"player\": \"Maciej Lampe\", \"plus_minus\": \"+3\", \"pts\": 4, \"stl\": 0, \"tov\": 0, \"trb\": 1}], \"city\": \"Phoenix\"}, {\"name\": \"Utah Jazz\", \"abbreviation\": \"UTA\", \"score\": 84, \"home\": true, \"won\": 0, \"results\": {\"ast\": 20, \"blk\": 8, \"drb\": 27, \"fg\": 32, \"fg3\": 4, \"fg3_pct\": \".267\", \"fg3a\": 15, \"fg_pct\": \".400\", \"fga\": 80, \"ft\": 16, \"ft_pct\": \".593\", \"fta\": 27, \"mp\": 240, \"orb\": 16, \"pf\": 23, \"plus_minus\": \"\", \"pts\": 84, \"stl\": 9, \"tov\": 18, \"trb\": 43}, \"players\": [{\"ast\": 3, \"blk\": 2, \"drb\": 6, \"fg\": 6, \"fg3\": 0, \"fg3_pct\": \".000\", \"fg3a\": 2, \"fg_pct\": \".375\", \"fga\": 16, \"ft\": 4, \"ft_pct\": \".571\", \"fta\": 7, \"mp\": \"32:00\", \"orb\": 3, \"pf\": 0, \"player\": \"Andrei Kirilenko\", \"plus_minus\": -4, \"pts\": 16, \"stl\": 1, \"tov\": 2, \"trb\": 9}, {\"ast\": 2, \"blk\": 0, \"drb\": 2, \"fg\": 4, \"fg3\": 1, \"fg3_pct\": \"1.000\", \"fg3a\": 1, \"fg_pct\": \".444\", \"fga\": 9, \"ft\": 0, \"ft_pct\": \".000\", \"fta\": 1, \"mp\": \"20:00\", \"orb\": 2, \"pf\": 1, \"player\": \"Gordan Giricek\", \"plus_minus\": -9, \"pts\": 9, \"stl\": 0, \"tov\": 2, \"trb\": 4}, {\"ast\": 1, \"blk\": 2, \"drb\": 4, \"fg\": 1, \"fg3\": 0, \"fg3_pct\": \"\", \"fg3a\": 0, \"fg_pct\": \".500\", \"fga\": 2, \"ft\": 0, \"ft_pct\": \"\", \"fta\": 0, \"mp\": \"18:00\", \"orb\": 3, \"pf\": 2, \"player\": \"Tom Gugliotta\", \"plus_minus\": -10, \"pts\": 2, \"stl\": 1, \"tov\": 2, \"trb\": 7}, {\"ast\": 4, \"blk\": 0, \"drb\": 0, \"fg\": 2, \"fg3\": 0, \"fg3_pct\": \"\", \"fg3a\": 0, \"fg_pct\": \"1.000\", \"fga\": 2, \"ft\": 2, \"ft_pct\": \"1.000\", \"fta\": 2, \"mp\": \"17:00\", \"orb\": 0, \"pf\": 1, \"player\": \"Carlos Arroyo\", \"plus_minus\": -11, \"pts\": 6, \"stl\": 0, \"tov\": 4, \"trb\": 0}, {\"ast\": 0, \"blk\": 0, \"drb\": 2, \"fg\": 0, \"fg3\": 0, \"fg3_pct\": \"\", \"fg3a\": 0, \"fg_pct\": \".000\", \"fga\": 3, \"ft\": 2, \"ft_pct\": \"1.000\", \"fta\": 2, \"mp\": \"17:00\", \"orb\": 0, \"pf\": 5, \"player\": \"Jarron Collins\", \"plus_minus\": -15, \"pts\": 2, \"stl\": 0, \"tov\": 3, \"trb\": 2}, {\"ast\": 5, \"blk\": 0, \"drb\": 2, \"fg\": 7, \"fg3\": 3, \"fg3_pct\": \".600\", \"fg3a\": 5, \"fg_pct\": \".636\", \"fga\": 11, \"ft\": 8, \"ft_pct\": \".800\", \"fta\": 10, \"mp\": \"31:00\", \"orb\": 0, \"pf\": 3, \"player\": \"Raul Lopez\", \"plus_minus\": \"+6\", \"pts\": 25, \"stl\": 2, \"tov\": 1, \"trb\": 2}, {\"ast\": 0, \"blk\": 0, \"drb\": 1, \"fg\": 3, \"fg3\": 0, \"fg3_pct\": \".000\", \"fg3a\": 2, \"fg_pct\": \".375\", \"fga\": 8, \"ft\": 0, \"ft_pct\": \"\", \"fta\": 0, \"mp\": \"22:00\", \"orb\": 0, \"pf\": 1, \"player\": \"Raja Bell\", \"plus_minus\": -5, \"pts\": 6, \"stl\": 2, \"tov\": 0, \"trb\": 1}, {\"ast\": 2, \"blk\": 2, \"drb\": 2, \"fg\": 2, \"fg3\": 0, \"fg3_pct\": \"\", \"fg3a\": 0, \"fg_pct\": \".400\", \"fga\": 5, \"ft\": 0, \"ft_pct\": \".000\", \"fta\": 4, \"mp\": \"21:00\", \"orb\": 5, \"pf\": 3, \"player\": \"Greg Ostertag\", \"plus_minus\": \"+8\", \"pts\": 4, \"stl\": 1, \"tov\": 0, \"trb\": 7}, {\"ast\": 0, \"blk\": 2, \"drb\": 5, \"fg\": 1, \"fg3\": 0, \"fg3_pct\": \".000\", \"fg3a\": 4, \"fg_pct\": \".143\", \"fga\": 7, \"ft\": 0, \"ft_pct\": \"\", \"fta\": 0, \"mp\": \"20:00\", \"orb\": 2, \"pf\": 3, \"player\": \"Sasha Pavlovic\", \"plus_minus\": \"+2\", \"pts\": 2, \"stl\": 0, \"tov\": 2, \"trb\": 7}, {\"ast\": 0, \"blk\": 0, \"drb\": 0, \"fg\": 3, \"fg3\": 0, \"fg3_pct\": \"\", \"fg3a\": 0, \"fg_pct\": \".750\", \"fga\": 4, \"ft\": 0, \"ft_pct\": \"\", \"fta\": 0, \"mp\": \"16:00\", \"orb\": 0, \"pf\": 2, \"player\": \"Mikki Moore\", \"plus_minus\": 0, \"pts\": 6, \"stl\": 1, \"tov\": 0, \"trb\": 0}, {\"ast\": 3, \"blk\": 0, \"drb\": 0, \"fg\": 2, \"fg3\": 0, \"fg3_pct\": \".000\", \"fg3a\": 1, \"fg_pct\": \".182\", \"fga\": 11, \"ft\": 0, \"ft_pct\": \"\", \"fta\": 0, \"mp\": \"16:00\", \"orb\": 0, \"pf\": 1, \"player\": \"Mo Williams\", \"plus_minus\": \"+11\", \"pts\": 4, \"stl\": 1, \"tov\": 1, \"trb\": 0}, {\"ast\": 0, \"blk\": 0, \"drb\": 3, \"fg\": 1, \"fg3\": 0, \"fg3_pct\": \"\", \"fg3a\": 0, \"fg_pct\": \".500\", \"fga\": 2, \"ft\": 0, \"ft_pct\": \".000\", \"fta\": 1, \"mp\": \"10:00\", \"orb\": 1, \"pf\": 1, \"player\": \"Michael Ruffin\", \"plus_minus\": \"+2\", \"pts\": 2, \"stl\": 0, \"tov\": 1, \"trb\": 4}], \"city\": \"Utah\"}], \"date\": {\"$date\": \"2004-04-14T04:00:00.000+0000\"}}, {\"_id\": {\"$oid\": \"52f587f0b42a75c4264022c4\"}, \"teams\": [{\"name\": \"New Orleans Hornets\", \"abbreviation\": \"NOH\", \"score\": 94, \"home\": false, \"won\": 1, \"results\": {\"ast\": 24, \"blk\": 3, \"drb\": 32, \"fg\": 37, \"fg3\": 8, \"fg3_pct\": \".364\", \"fg3a\": 22, \"fg_pct\": \".451\", \"fga\": 82, \"ft\": 12, \"ft_pct\": \".600\", \"fta\": 20, \"mp\": 240, \"orb\": 16, \"pf\": 20, \"plus_minus\": \"\", \"pts\": 94, \"stl\": 9, \"tov\": 13, \"trb\": 48}, \"players\": [{\"ast\": 1, \"blk\": 0, \"drb\": 1, \"fg\": 4, \"fg3\": 1, \"fg3_pct\": \".200\", \"fg3a\": 5, \"fg_pct\": \".364\", \"fga\": 11, \"ft\": 0, \"ft_pct\": \"\", \"fta\": 0, \"mp\": \"32:00\", \"orb\": 0, \"pf\": 1, \"player\": \"David Wesley\", \"plus_minus\": \"+7\", \"pts\": 9, \"stl\": 0, \"tov\": 0, \"trb\": 1}, {\"ast\": 0, \"blk\": 0, \"drb\": 9, \"fg\": 7, \"fg3\": 0, \"fg3_pct\": \".000\", \"fg3a\": 1, \"fg_pct\": \".583\", \"fga\": 12, \"ft\": 9, \"ft_pct\": \".818\", \"fta\": 11, \"mp\": \"29:00\", \"orb\": 5, \"pf\": 3, \"player\": \"Jamaal Magloire\", \"plus_minus\": 0, \"pts\": 23, \"stl\": 1, \"tov\": 1, \"trb\": 14}, {\"ast\": 1, \"blk\": 0, \"drb\": 3, \"fg\": 4, \"fg3\": 1, \"fg3_pct\": \".500\", \"fg3a\": 2, \"fg_pct\": \".500\", \"fga\": 8, \"ft\": 0, \"ft_pct\": \"\", \"fta\": 0, \"mp\": \"28:00\", \"orb\": 3, \"pf\": 1, \"player\": \"George Lynch\", \"plus_minus\": \"+4\", \"pts\": 9, \"stl\": 1, \"tov\": 1, \"trb\": 6}, {\"ast\": 5, \"blk\": 0, \"drb\": 2, \"fg\": 10, \"fg3\": 6, \"fg3_pct\": \".600\", \"fg3a\": 10, \"fg_pct\": \".556\", \"fga\": 18, \"ft\": 0, \"ft_pct\": \".000\", \"fta\": 3, \"mp\": \"27:00\", \"orb\": 0, \"pf\": 2, \"player\": \"Baron Davis\", \"plus_minus\": \"+22\", \"pts\": 26, \"stl\": 1, \"tov\": 0, \"trb\": 2}, {\"ast\": 3, \"blk\": 0, \"drb\": 1, \"fg\": 1, \"fg3\": 0, \"fg3_pct\": \"\", \"fg3a\": 0, \"fg_pct\": \".250\", \"fga\": 4, \"ft\": 0, \"ft_pct\": \"\", \"fta\": 0, \"mp\": \"10:00\", \"orb\": 2, \"pf\": 1, \"player\": \"P.J. Brown\", \"plus_minus\": -1, \"pts\": 2, \"stl\": 0, \"tov\": 0, \"trb\": 3}, {\"ast\": 7, \"blk\": 0, \"drb\": 4, \"fg\": 0, \"fg3\": 0, \"fg3_pct\": \".000\", \"fg3a\": 3, \"fg_pct\": \".000\", \"fga\": 7, \"ft\": 0, \"ft_pct\": \"\", \"fta\": 0, \"mp\": \"31:00\", \"orb\": 0, \"pf\": 2, \"player\": \"Shammond Williams\", \"plus_minus\": \"+10\", \"pts\": 0, \"stl\": 2, \"tov\": 4, \"trb\": 4}, {\"ast\": 2, \"blk\": 1, \"drb\": 4, \"fg\": 5, \"fg3\": 0, \"fg3_pct\": \"\", \"fg3a\": 0, \"fg_pct\": \".714\", \"fga\": 7, \"ft\": 1, \"ft_pct\": \".500\", \"fta\": 2, \"mp\": \"28:00\", \"orb\": 4, \"pf\": 3, \"player\": \"David West\", \"plus_minus\": \"+10\", \"pts\": 11, \"stl\": 3, \"tov\": 2, \"trb\": 8}, {\"ast\": 1, \"blk\": 1, \"drb\": 5, \"fg\": 3, \"fg3\": 0, \"fg3_pct\": \"\", \"fg3a\": 0, \"fg_pct\": \".600\", \"fga\": 5, \"ft\": 2, \"ft_pct\": \".500\", \"fta\": 4, \"mp\": \"25:00\", \"orb\": 1, \"pf\": 4, \"player\": \"Robert Traylor\", \"plus_minus\": \"+15\", \"pts\": 8, \"stl\": 1, \"tov\": 2, \"trb\": 6}, {\"ast\": 3, \"blk\": 1, \"drb\": 3, \"fg\": 3, \"fg3\": 0, \"fg3_pct\": \"\", \"fg3a\": 0, \"fg_pct\": \".429\", \"fga\": 7, \"ft\": 0, \"ft_pct\": \"\", \"fta\": 0, \"mp\": \"24:00\", \"orb\": 1, \"pf\": 1, \"player\": \"Stacey Augmon\", \"plus_minus\": \"+20\", \"pts\": 6, \"stl\": 0, \"tov\": 2, \"trb\": 4}, {\"ast\": 1, \"blk\": 0, \"drb\": 0, \"fg\": 0, \"fg3\": 0, \"fg3_pct\": \".000\", \"fg3a\": 1, \"fg_pct\": \".000\", \"fga\": 3, \"ft\": 0, \"ft_pct\": \"\", \"fta\": 0, \"mp\": \"6:00\", \"orb\": 0, \"pf\": 2, \"player\": \"Maurice Carter\", \"plus_minus\": -7, \"pts\": 0, \"stl\": 0, \"tov\": 1, \"trb\": 0}], \"city\": \"New Orleans\"}, {\"name\": \"Washington Wizards\", \"abbreviation\": \"WAS\", \"score\": 78, \"home\": true, \"won\": 0, \"results\": {\"ast\": 13, \"blk\": 2, \"drb\": 30, \"fg\": 27, \"fg3\": 4, \"fg3_pct\": \".211\", \"fg3a\": 19, \"fg_pct\": \".375\", \"fga\": 72, \"ft\": 20, \"ft_pct\": \".714\", \"fta\": 28, \"mp\": 240, \"orb\": 9, \"pf\": 18, \"plus_minus\": \"\", \"pts\": 78, \"stl\": 8, \"tov\": 14, \"trb\": 39}, \"players\": [{\"ast\": 1, \"blk\": 0, \"drb\": 6, \"fg\": 4, \"fg3\": 0, \"fg3_pct\": \"\", \"fg3a\": 0, \"fg_pct\": \".500\", \"fga\": 8, \"ft\": 5, \"ft_pct\": \".833\", \"fta\": 6, \"mp\": \"35:00\", \"orb\": 5, \"pf\": 4, \"player\": \"Jared Jeffries\", \"plus_minus\": -9, \"pts\": 13, \"stl\": 0, \"tov\": 2, \"trb\": 11}, {\"ast\": 0, \"blk\": 0, \"drb\": 2, \"fg\": 5, \"fg3\": 1, \"fg3_pct\": \".250\", \"fg3a\": 4, \"fg_pct\": \".500\", \"fga\": 10, \"ft\": 4, \"ft_pct\": \".667\", \"fta\": 6, \"mp\": \"33:00\", \"orb\": 1, \"pf\": 1, \"player\": \"Jarvis Hayes\", \"plus_minus\": \"+2\", \"pts\": 15, \"stl\": 1, \"tov\": 0, \"trb\": 3}, {\"ast\": 3, \"blk\": 1, \"drb\": 2, \"fg\": 1, \"fg3\": 1, \"fg3_pct\": \".200\", \"fg3a\": 5, \"fg_pct\": \".111\", \"fga\": 9, \"ft\": 0, \"ft_pct\": \"\", \"fta\": 0, \"mp\": \"30:00\", \"orb\": 0, \"pf\": 0, \"player\": \"Steve Blake\", \"plus_minus\": \"+4\", \"pts\": 3, \"stl\": 1, \"tov\": 3, \"trb\": 2}, {\"ast\": 2, \"blk\": 1, \"drb\": 5, \"fg\": 3, \"fg3\": 0, \"fg3_pct\": \".000\", \"fg3a\": 1, \"fg_pct\": \".300\", \"fga\": 10, \"ft\": 2, \"ft_pct\": \"1.000\", \"fta\": 2, \"mp\": \"26:00\", \"orb\": 0, \"pf\": 2, \"player\": \"Larry Hughes\", \"plus_minus\": \"+7\", \"pts\": 8, \"stl\": 0, \"tov\": 0, \"trb\": 5}, {\"ast\": 2, \"blk\": 0, \"drb\": 4, \"fg\": 4, \"fg3\": 0, \"fg3_pct\": \"\", \"fg3a\": 0, \"fg_pct\": \".800\", \"fga\": 5, \"ft\": 0, \"ft_pct\": \"\", \"fta\": 0, \"mp\": \"18:00\", \"orb\": 1, \"pf\": 2, \"player\": \"Brendan Haywood\", \"plus_minus\": \"+2\", \"pts\": 8, \"stl\": 0, \"tov\": 0, \"trb\": 5}, {\"ast\": 0, \"blk\": 0, \"drb\": 5, \"fg\": 6, \"fg3\": 0, \"fg3_pct\": \"\", \"fg3a\": 0, \"fg_pct\": \".667\", \"fga\": 9, \"ft\": 4, \"ft_pct\": \".667\", \"fta\": 6, \"mp\": \"30:00\", \"orb\": 1, \"pf\": 3, \"player\": \"Etan Thomas\", \"plus_minus\": -18, \"pts\": 16, \"stl\": 3, \"tov\": 2, \"trb\": 6}, {\"ast\": 1, \"blk\": 0, \"drb\": 1, \"fg\": 3, \"fg3\": 1, \"fg3_pct\": \".200\", \"fg3a\": 5, \"fg_pct\": \".273\", \"fga\": 11, \"ft\": 1, \"ft_pct\": \".500\", \"fta\": 2, \"mp\": \"21:00\", \"orb\": 1, \"pf\": 2, \"player\": \"Juan Dixon\", \"plus_minus\": -18, \"pts\": 8, \"stl\": 1, \"tov\": 1, \"trb\": 2}, {\"ast\": 2, \"blk\": 0, \"drb\": 2, \"fg\": 0, \"fg3\": 0, \"fg3_pct\": \".000\", \"fg3a\": 3, \"fg_pct\": \".000\", \"fga\": 5, \"ft\": 2, \"ft_pct\": \".500\", \"fta\": 4, \"mp\": \"20:00\", \"orb\": 0, \"pf\": 2, \"player\": \"Gilbert Arenas\", \"plus_minus\": -25, \"pts\": 2, \"stl\": 1, \"tov\": 4, \"trb\": 2}, {\"ast\": 0, \"blk\": 0, \"drb\": 2, \"fg\": 1, \"fg3\": 1, \"fg3_pct\": \"1.000\", \"fg3a\": 1, \"fg_pct\": \".250\", \"fga\": 4, \"ft\": 0, \"ft_pct\": \"\", \"fta\": 0, \"mp\": \"15:00\", \"orb\": 0, \"pf\": 0, \"player\": \"Mitchell Butler\", \"plus_minus\": -18, \"pts\": 3, \"stl\": 1, \"tov\": 1, \"trb\": 2}, {\"ast\": 2, \"blk\": 0, \"drb\": 1, \"fg\": 0, \"fg3\": 0, \"fg3_pct\": \"\", \"fg3a\": 0, \"fg_pct\": \".000\", \"fga\": 1, \"ft\": 2, \"ft_pct\": \"1.000\", \"fta\": 2, \"mp\": \"12:00\", \"orb\": 0, \"pf\": 2, \"player\": \"Lonny Baxter\", \"plus_minus\": -7, \"pts\": 2, \"stl\": 0, \"tov\": 1, \"trb\": 1}], \"city\": \"Washington\"}], \"date\": {\"$date\": \"2004-04-14T04:00:00.000+0000\"}}]}\n",
      "Schema: \n",
      "{\"games\": [{\"_id\": {\"$oid\": \"52f29f91ddbd75540aba6dae\"}, \"teams\": [{\"name\": \"Washington Bullets\", \"abbreviation\": \"WSB\", \"score\": 100, \"home\": false, \"won\": 1, \"results\": {\"ast\": 21, \"blk\": 7, \"drb\": 29, \"fg\": 40, \"fg3\": 0, \"fg3_pct\": \".000\", \"fg3a\": 2, \"fg_pct\": \".513\", \"fga\": 78, \"ft\": 20, \"ft_pct\": \".769\", \"fta\": 26, \"mp\": 240, \"orb\": 11, \"pf\": 19, \"pts\": 100, \"stl\": 11, \"tov\": 17, \"trb\": 40}, \"players\": [{\"ast\": 9, \"blk\": 2, \"drb\": 8, \"fg\": 8, \"fg3\": 0, \"fg3_pct\": \"\", \"fg3a\": 0, \"fg_pct\": \".533\", \"fga\": 15, \"ft\": 3, \"ft_pct\": \".750\", \"fta\": 4, \"mp\": \"41:00\", \"orb\": 6, \"pf\": 3, \"player\": \"Jeff Ruland\", \"pts\": 19, \"stl\": 1, \"tov\": 5, \"trb\": 14}, {\"ast\": 2, \"blk\": 1, \"drb\": 7, \"fg\": 9, \"fg3\": 0, \"fg3_pct\": \"\", \"fg3a\": 0, \"fg_pct\": \".643\", \"fga\": 14, \"ft\": 4, \"ft_pct\": \".667\", \"fta\": 6, \"mp\": \"36:00\", \"orb\": 1, \"pf\": 1, \"player\": \"Cliff Robinson\", \"pts\": 22, \"stl\": 3, \"tov\": 5, \"trb\": 8}, {\"ast\": 4, \"blk\": 0, \"drb\": 0, \"fg\": 8, \"fg3\": 0, \"fg3_pct\": \".000\", \"fg3a\": 2, \"fg_pct\": \".571\", \"fga\": 14, \"ft\": 5, \"ft_pct\": \"1.000\", \"fta\": 5, \"mp\": \"30:00\", \"orb\": 0, \"pf\": 0, \"player\": \"Gus Williams\", \"pts\": 21, \"stl\": 2, \"tov\": 1, \"trb\": 0}, {\"ast\": 1, \"blk\": 0, \"drb\": 2, \"fg\": 8, \"fg3\": 0, \"fg3_pct\": \"\", \"fg3a\": 0, \"fg_pct\": \".533\", \"fga\": 15, \"ft\": 2, \"ft_pct\": \".667\", \"fta\": 3, \"mp\": \"30:00\", \"orb\": 0, \"pf\": 2, \"player\": \"Jeff Malone\", \"pts\": 18, \"stl\": 0, \"tov\": 2, \"trb\": 2}, {\"ast\": 2, \"blk\": 4, \"drb\": 6, \"fg\": 1, \"fg3\": 0, \"fg3_pct\": \"\", \"fg3a\": 0, \"fg_pct\": \".250\", \"fga\": 4, \"ft\": 2, \"ft_pct\": \"1.000\", \"fta\": 2, \"mp\": \"25:00\", \"orb\": 2, \"pf\": 2, \"player\": \"Charles Jones\", \"pts\": 4, \"stl\": 0, \"tov\": 1, \"trb\": 8}, {\"ast\": 1, \"blk\": 0, \"drb\": 4, \"fg\": 0, \"fg3\": 0, \"fg3_pct\": \"\", \"fg3a\": 0, \"fg_pct\": \".000\", \"fga\": 5, \"ft\": 2, \"ft_pct\": \".500\", \"fta\": 4, \"mp\": \"26:00\", \"orb\": 2, \"pf\": 4, \"player\": \"Dan Roundfield\", \"pts\": 2, \"stl\": 1, \"tov\": 2, \"trb\": 6}, {\"ast\": 1, \"blk\": 0, \"drb\": 0, \"fg\": 3, \"fg3\": 0, \"fg3_pct\": \"\", \"fg3a\": 0, \"fg_pct\": \".750\", \"fga\": 4, \"ft\": 1, \"ft_pct\": \"1.000\", \"fta\": 1, \"mp\": \"20:00\", \"orb\": 0, \"pf\": 2, \"player\": \"Perry Moss\", \"pts\": 7, \"stl\": 2, \"tov\": 1, \"trb\": 0}, {\"ast\": 1, \"blk\": 0, \"drb\": 0, \"fg\": 0, \"fg3\": 0, \"fg3_pct\": \"\", \"fg3a\": 0, \"fg_pct\": \"\", \"fga\": 0, \"ft\": 0, \"ft_pct\": \"\", \"fta\": 0, \"mp\": \"15:00\", \"orb\": 0, \"pf\": 0, \"player\": \"Dudley Bradley\", \"pts\": 0, \"stl\": 1, \"tov\": 0, \"trb\": 0}, {\"ast\": 0, \"blk\": 0, \"drb\": 2, \"fg\": 2, \"fg3\": 0, \"fg3_pct\": \"\", \"fg3a\": 0, \"fg_pct\": \".500\", \"fga\": 4, \"ft\": 1, \"ft_pct\": \"1.000\", \"fta\": 1, \"mp\": \"11:00\", \"orb\": 0, \"pf\": 2, \"player\": \"Darren Daye\", \"pts\": 5, \"stl\": 1, \"tov\": 0, \"trb\": 2}, {\"ast\": 0, \"blk\": 0, \"drb\": 0, \"fg\": 1, \"fg3\": 0, \"fg3_pct\": \"\", \"fg3a\": 0, \"fg_pct\": \".500\", \"fga\": 2, \"ft\": 0, \"ft_pct\": \"\", \"fta\": 0, \"mp\": \"3:00\", \"orb\": 0, \"pf\": 1, \"player\": \"Tom McMillen\", \"pts\": 2, \"stl\": 0, \"tov\": 0, \"trb\": 0}, {\"ast\": 0, \"blk\": 0, \"drb\": 0, \"fg\": 0, \"fg3\": 0, \"fg3_pct\": \"\", \"fg3a\": 0, \"fg_pct\": \".000\", \"fga\": 1, \"ft\": 0, \"ft_pct\": \"\", \"fta\": 0, \"mp\": \"3:00\", \"orb\": 0, \"pf\": 2, \"player\": \"Manute Bol\", \"pts\": 0, \"stl\": 0, \"tov\": 0, \"trb\": 0}], \"city\": \"Washington\"}, {\"name\": \"Atlanta Hawks\", \"abbreviation\": \"ATL\", \"score\": 91, \"home\": true, \"won\": 0, \"results\": {\"ast\": 25, \"blk\": 5, \"drb\": 28, \"fg\": 41, \"fg3\": 0, \"fg3_pct\": \".000\", \"fg3a\": 3, \"fg_pct\": \".446\", \"fga\": 92, \"ft\": 9, \"ft_pct\": \".500\", \"fta\": 18, \"mp\": 240, \"orb\": 16, \"pf\": 23, \"pts\": 91, \"stl\": 8, \"tov\": 16, \"trb\": 44}, \"players\": [{\"ast\": 4, \"blk\": 0, \"drb\": 1, \"fg\": 15, \"fg3\": 0, \"fg3_pct\": \".000\", \"fg3a\": 2, \"fg_pct\": \".517\", \"fga\": 29, \"ft\": 2, \"ft_pct\": \".400\", \"fta\": 5, \"mp\": \"42:00\", \"orb\": 5, \"pf\": 2, \"player\": \"Dominique Wilkins\", \"pts\": 32, \"stl\": 3, \"tov\": 5, \"trb\": 6}, {\"ast\": 0, \"blk\": 3, \"drb\": 8, \"fg\": 4, \"fg3\": 0, \"fg3_pct\": \"\", \"fg3a\": 0, \"fg_pct\": \".500\", \"fga\": 8, \"ft\": 1, \"ft_pct\": \".500\", \"fta\": 2, \"mp\": \"34:00\", \"orb\": 1, \"pf\": 2, \"player\": \"Tree Rollins\", \"pts\": 9, \"stl\": 0, \"tov\": 1, \"trb\": 9}, {\"ast\": 4, \"blk\": 2, \"drb\": 4, \"fg\": 3, \"fg3\": 0, \"fg3_pct\": \"\", \"fg3a\": 0, \"fg_pct\": \".375\", \"fga\": 8, \"ft\": 2, \"ft_pct\": \".500\", \"fta\": 4, \"mp\": \"31:00\", \"orb\": 2, \"pf\": 4, \"player\": \"Cliff Levingston\", \"pts\": 8, \"stl\": 1, \"tov\": 2, \"trb\": 6}, {\"ast\": 10, \"blk\": 0, \"drb\": 3, \"fg\": 5, \"fg3\": 0, \"fg3_pct\": \"\", \"fg3a\": 0, \"fg_pct\": \".714\", \"fga\": 7, \"ft\": 2, \"ft_pct\": \"1.000\", \"fta\": 2, \"mp\": \"29:00\", \"orb\": 0, \"pf\": 4, \"player\": \"Spud Webb\", \"pts\": 12, \"stl\": 1, \"tov\": 3, \"trb\": 3}, {\"ast\": 0, \"blk\": 0, \"drb\": 5, \"fg\": 6, \"fg3\": 0, \"fg3_pct\": \"\", \"fg3a\": 0, \"fg_pct\": \".316\", \"fga\": 19, \"ft\": 1, \"ft_pct\": \".333\", \"fta\": 3, \"mp\": \"22:00\", \"orb\": 3, \"pf\": 3, \"player\": \"Kevin Willis\", \"pts\": 13, \"stl\": 0, \"tov\": 1, \"trb\": 8}, {\"ast\": 3, \"blk\": 0, \"drb\": 1, \"fg\": 3, \"fg3\": 0, \"fg3_pct\": \".000\", \"fg3a\": 1, \"fg_pct\": \".500\", \"fga\": 6, \"ft\": 0, \"ft_pct\": \"\", \"fta\": 0, \"mp\": \"24:00\", \"orb\": 2, \"pf\": 0, \"player\": \"Randy Wittman\", \"pts\": 6, \"stl\": 0, \"tov\": 0, \"trb\": 3}, {\"ast\": 1, \"blk\": 0, \"drb\": 3, \"fg\": 2, \"fg3\": 0, \"fg3_pct\": \"\", \"fg3a\": 0, \"fg_pct\": \".286\", \"fga\": 7, \"ft\": 0, \"ft_pct\": \"\", \"fta\": 0, \"mp\": \"23:00\", \"orb\": 2, \"pf\": 0, \"player\": \"Scott Hastings\", \"pts\": 4, \"stl\": 2, \"tov\": 1, \"trb\": 5}, {\"ast\": 0, \"blk\": 0, \"drb\": 1, \"fg\": 2, \"fg3\": 0, \"fg3_pct\": \"\", \"fg3a\": 0, \"fg_pct\": \".667\", \"fga\": 3, \"ft\": 0, \"ft_pct\": \"\", \"fta\": 0, \"mp\": \"10:00\", \"orb\": 0, \"pf\": 0, \"player\": \"Lorenzo Charles\", \"pts\": 4, \"stl\": 0, \"tov\": 0, \"trb\": 1}, {\"ast\": 0, \"blk\": 0, \"drb\": 2, \"fg\": 0, \"fg3\": 0, \"fg3_pct\": \"\", \"fg3a\": 0, \"fg_pct\": \".000\", \"fga\": 3, \"ft\": 0, \"ft_pct\": \"\", \"fta\": 0, \"mp\": \"10:00\", \"orb\": 0, \"pf\": 3, \"player\": \"Sedric Toney\", \"pts\": 0, \"stl\": 0, \"tov\": 3, \"trb\": 2}, {\"ast\": 3, \"blk\": 0, \"drb\": 0, \"fg\": 0, \"fg3\": 0, \"fg3_pct\": \"\", \"fg3a\": 0, \"fg_pct\": \"\", \"fga\": 0, \"ft\": 0, \"ft_pct\": \"\", \"fta\": 0, \"mp\": \"9:00\", \"orb\": 0, \"pf\": 1, \"player\": \"Ray Williams\", \"pts\": 0, \"stl\": 1, \"tov\": 0, \"trb\": 0}, {\"ast\": 0, \"blk\": 0, \"drb\": 0, \"fg\": 1, \"fg3\": 0, \"fg3_pct\": \"\", \"fg3a\": 0, \"fg_pct\": \".500\", \"fga\": 2, \"ft\": 1, \"ft_pct\": \".500\", \"fta\": 2, \"mp\": \"6:00\", \"orb\": 1, \"pf\": 4, \"player\": \"Jon Koncak\", \"pts\": 3, \"stl\": 0, \"tov\": 0, \"trb\": 1}], \"city\": \"Atlanta\"}], \"date\": {\"$date\": \"1985-10-25T04:00:00.000+0000\"}}, {\"_id\": {\"$oid\": \"52f29f92ddbd75540aba6daf\"}, \"teams\": [{\"name\": \"Chicago Bulls\", \"abbreviation\": \"CHI\", \"score\": 116, \"home\": true, \"won\": 1, \"results\": {\"ast\": 29, \"blk\": 8, \"drb\": 32, \"fg\": 43, \"fg3\": 1, \"fg3_pct\": \".250\", \"fg3a\": 4, \"fg_pct\": \".453\", \"fga\": 95, \"ft\": 29, \"ft_pct\": \".707\", \"fta\": 41, \"mp\": 265, \"orb\": 21, \"pf\": 33, \"pts\": 116, \"stl\": 8, \"tov\": 20, \"trb\": 53}, \"players\": [{\"ast\": 13, \"blk\": 0, \"drb\": 3, \"fg\": 3, \"fg3\": 1, \"fg3_pct\": \".333\", \"fg3a\": 3, \"fg_pct\": \".500\", \"fga\": 6, \"ft\": 1, \"ft_pct\": \".500\", \"fta\": 2, \"mp\": \"46:00\", \"orb\": 0, \"pf\": 5, \"player\": \"Kyle Macy\", \"pts\": 8, \"stl\": 2, \"tov\": 2, \"trb\": 3}, {\"ast\": 3, \"blk\": 2, \"drb\": 7, \"fg\": 11, \"fg3\": 0, \"fg3_pct\": \".000\", \"fg3a\": 1, \"fg_pct\": \".524\", \"fga\": 21, \"ft\": 13, \"ft_pct\": \".867\", \"fta\": 15, \"mp\": \"44:00\", \"orb\": 5, \"pf\": 3, \"player\": \"Orlando Woolridge\", \"pts\": 35, \"stl\": 1, \"tov\": 5, \"trb\": 12}, {\"ast\": 3, \"blk\": 0, \"drb\": 3, \"fg\": 13, \"fg3\": 0, \"fg3_pct\": \"\", \"fg3a\": 0, \"fg_pct\": \".500\", \"fga\": 26, \"ft\": 3, \"ft_pct\": \".750\", \"fta\": 4, \"mp\": \"39:00\", \"orb\": 3, \"pf\": 5, \"player\": \"Michael Jordan\", \"pts\": 29, \"stl\": 3, \"tov\": 3, \"trb\": 6}, {\"ast\": 1, \"blk\": 4, \"drb\": 1, \"fg\": 5, \"fg3\": 0, \"fg3_pct\": \"\", \"fg3a\": 0, \"fg_pct\": \".625\", \"fga\": 8, \"ft\": 2, \"ft_pct\": \".286\", \"fta\": 7, \"mp\": \"35:00\", \"orb\": 4, \"pf\": 6, \"player\": \"Jawann Oldham\", \"pts\": 12, \"stl\": 0, \"tov\": 2, \"trb\": 5}, {\"ast\": 1, \"blk\": 1, \"drb\": 3, \"fg\": 4, \"fg3\": 0, \"fg3_pct\": \"\", \"fg3a\": 0, \"fg_pct\": \".400\", \"fga\": 10, \"ft\": 2, \"ft_pct\": \".500\", \"fta\": 4, \"mp\": \"24:00\", \"orb\": 1, \"pf\": 6, \"player\": \"Sidney Green\", \"pts\": 10, \"stl\": 1, \"tov\": 1, \"trb\": 4}, {\"ast\": 1, \"blk\": 1, \"drb\": 6, \"fg\": 4, \"fg3\": 0, \"fg3_pct\": \"\", \"fg3a\": 0, \"fg_pct\": \".571\", \"fga\": 7, \"ft\": 3, \"ft_pct\": \"1.000\", \"fta\": 3, \"mp\": \"26:00\", \"orb\": 3, \"pf\": 3, \"player\": \"Dave Corzine\", \"pts\": 11, \"stl\": 0, \"tov\": 3, \"trb\": 9}, {\"ast\": 1, \"blk\": 0, \"drb\": 6, \"fg\": 0, \"fg3\": 0, \"fg3_pct\": \"\", \"fg3a\": 0, \"fg_pct\": \".000\", \"fga\": 4, \"ft\": 5, \"ft_pct\": \".833\", \"fta\": 6, \"mp\": \"19:00\", \"orb\": 3, \"pf\": 1, \"player\": \"Charles Oakley\", \"pts\": 5, \"stl\": 0, \"tov\": 3, \"trb\": 9}, {\"ast\": 4, \"blk\": 0, \"drb\": 1, \"fg\": 2, \"fg3\": 0, \"fg3_pct\": \"\", \"fg3a\": 0, \"fg_pct\": \".250\", \"fga\": 8, \"ft\": 0, \"ft_pct\": \"\", \"fta\": 0, \"mp\": \"16:00\", \"orb\": 0, \"pf\": 3, \"player\": \"George Gervin\", \"pts\": 4, \"stl\": 1, \"tov\": 1, \"trb\": 1}, {\"ast\": 2, \"blk\": 0, \"drb\": 2, \"fg\": 1, \"fg3\": 0, \"fg3_pct\": \"\", \"fg3a\": 0, \"fg_pct\": \".200\", \"fga\": 5, \"ft\": 0, \"ft_pct\": \"\", \"fta\": 0, \"mp\": \"16:00\", \"orb\": 2, \"pf\": 1, \"player\": \"Gene Banks\", \"pts\": 2, \"stl\": 0, \"tov\": 0, \"trb\": 4}], \"city\": \"Chicago\"}, {\"name\": \"Cleveland Cavaliers\", \"abbreviation\": \"CLE\", \"score\": 115, \"home\": false, \"won\": 0, \"results\": {\"ast\": 24, \"blk\": 8, \"drb\": 31, \"fg\": 45, \"fg3\": 2, \"fg3_pct\": \".667\", \"fg3a\": 3, \"fg_pct\": \".484\", \"fga\": 93, \"ft\": 23, \"ft_pct\": \".719\", \"fta\": 32, \"mp\": 265, \"orb\": 16, \"pf\": 34, \"pts\": 115, \"stl\": 8, \"tov\": 20, \"trb\": 47}, \"players\": [{\"ast\": 1, \"blk\": 3, \"drb\": 3, \"fg\": 6, \"fg3\": 0, \"fg3_pct\": \"\", \"fg3a\": 0, \"fg_pct\": \".353\", \"fga\": 17, \"ft\": 9, \"ft_pct\": \".750\", \"fta\": 12, \"mp\": \"40:00\", \"orb\": 3, \"pf\": 2, \"player\": \"Roy Hinson\", \"pts\": 21, \"stl\": 1, \"tov\": 3, \"trb\": 6}, {\"ast\": 9, \"blk\": 0, \"drb\": 2, \"fg\": 7, \"fg3\": 0, \"fg3_pct\": \"\", \"fg3a\": 0, \"fg_pct\": \".350\", \"fga\": 20, \"ft\": 0, \"ft_pct\": \"\", \"fta\": 0, \"mp\": \"38:00\", \"orb\": 1, \"pf\": 3, \"player\": \"John Bagley\", \"pts\": 14, \"stl\": 3, \"tov\": 5, \"trb\": 3}, {\"ast\": 5, \"blk\": 0, \"drb\": 3, \"fg\": 10, \"fg3\": 1, \"fg3_pct\": \".500\", \"fg3a\": 2, \"fg_pct\": \".500\", \"fga\": 20, \"ft\": 6, \"ft_pct\": \".857\", \"fta\": 7, \"mp\": \"36:00\", \"orb\": 3, \"pf\": 5, \"player\": \"World B. Free\", \"pts\": 27, \"stl\": 1, \"tov\": 2, \"trb\": 6}, {\"ast\": 1, \"blk\": 0, \"drb\": 7, \"fg\": 2, \"fg3\": 0, \"fg3_pct\": \"\", \"fg3a\": 0, \"fg_pct\": \".250\", \"fga\": 8, \"ft\": 2, \"ft_pct\": \".333\", \"fta\": 6, \"mp\": \"36:00\", \"orb\": 4, \"pf\": 6, \"player\": \"Phil Hubbard\", \"pts\": 6, \"stl\": 0, \"tov\": 4, \"trb\": 11}, {\"ast\": 0, \"blk\": 3, \"drb\": 6, \"fg\": 3, \"fg3\": 0, \"fg3_pct\": \"\", \"fg3a\": 0, \"fg_pct\": \"1.000\", \"fga\": 3, \"ft\": 0, \"ft_pct\": \"\", \"fta\": 0, \"mp\": \"21:00\", \"orb\": 1, \"pf\": 4, \"player\": \"Mark West\", \"pts\": 6, \"stl\": 0, \"tov\": 2, \"trb\": 7}, {\"ast\": 2, \"blk\": 0, \"drb\": 2, \"fg\": 2, \"fg3\": 1, \"fg3_pct\": \"1.000\", \"fg3a\": 1, \"fg_pct\": \".500\", \"fga\": 4, \"ft\": 0, \"ft_pct\": \"\", \"fta\": 0, \"mp\": \"25:00\", \"orb\": 2, \"pf\": 2, \"player\": \"Ben Poquette\", \"pts\": 5, \"stl\": 0, \"tov\": 0, \"trb\": 4}, {\"ast\": 0, \"blk\": 2, \"drb\": 3, \"fg\": 2, \"fg3\": 0, \"fg3_pct\": \"\", \"fg3a\": 0, \"fg_pct\": \".400\", \"fga\": 5, \"ft\": 2, \"ft_pct\": \"1.000\", \"fta\": 2, \"mp\": \"23:00\", \"orb\": 1, \"pf\": 4, \"player\": \"Melvin Turpin\", \"pts\": 6, \"stl\": 1, \"tov\": 1, \"trb\": 4}, {\"ast\": 2, \"blk\": 0, \"drb\": 2, \"fg\": 6, \"fg3\": 0, \"fg3_pct\": \"\", \"fg3a\": 0, \"fg_pct\": \"1.000\", \"fga\": 6, \"ft\": 1, \"ft_pct\": \"1.000\", \"fta\": 1, \"mp\": \"16:00\", \"orb\": 0, \"pf\": 4, \"player\": \"Ron Anderson\", \"pts\": 13, \"stl\": 0, \"tov\": 0, \"trb\": 2}, {\"ast\": 4, \"blk\": 0, \"drb\": 1, \"fg\": 4, \"fg3\": 0, \"fg3_pct\": \"\", \"fg3a\": 0, \"fg_pct\": \".800\", \"fga\": 5, \"ft\": 3, \"ft_pct\": \".750\", \"fta\": 4, \"mp\": \"16:00\", \"orb\": 1, \"pf\": 3, \"player\": \"Dirk Minniefield\", \"pts\": 11, \"stl\": 2, \"tov\": 1, \"trb\": 2}, {\"ast\": 0, \"blk\": 0, \"drb\": 2, \"fg\": 3, \"fg3\": 0, \"fg3_pct\": \"\", \"fg3a\": 0, \"fg_pct\": \".600\", \"fga\": 5, \"ft\": 0, \"ft_pct\": \"\", \"fta\": 0, \"mp\": \"14:00\", \"orb\": 0, \"pf\": 1, \"player\": \"Edgar Jones\", \"pts\": 6, \"stl\": 0, \"tov\": 2, \"trb\": 2}], \"city\": \"Cleveland\"}], \"date\": {\"$date\": \"1985-10-25T04:00:00.000+0000\"}}, {\"_id\": {\"$oid\": \"52f29f93ddbd75540aba6db0\"}, \"teams\": [{\"name\": \"Detroit Pistons\", \"abbreviation\": \"DET\", \"score\": 118, \"home\": true, \"won\": 1, \"results\": {\"ast\": 23, \"blk\": 0, \"drb\": 40, \"fg\": 39, \"fg3\": 0, \"fg3_pct\": \".000\", \"fg3a\": 1, \"fg_pct\": \".443\", \"fga\": 88, \"ft\": 40, \"ft_pct\": \".816\", \"fta\": 49, \"mp\": 240, \"orb\": 17, \"pf\": 32, \"pts\": 118, \"stl\": 11, \"tov\": 22, \"trb\": 57}, \"players\": [{\"ast\": 3, \"blk\": 0, \"drb\": 11, \"fg\": 8, \"fg3\": 0, \"fg3_pct\": \".000\", \"fg3a\": 1, \"fg_pct\": \".444\", \"fga\": 18, \"ft\": 12, \"ft_pct\": \"1.000\", \"fta\": 12, \"mp\": \"39:00\", \"orb\": 3, \"pf\": 4, \"player\": \"Bill Laimbeer\", \"pts\": 28, \"stl\": 0, \"tov\": 3, \"trb\": 14}, {\"ast\": 4, \"blk\": 0, \"drb\": 6, \"fg\": 6, \"fg3\": 0, \"fg3_pct\": \"\", \"fg3a\": 0, \"fg_pct\": \".462\", \"fga\": 13, \"ft\": 10, \"ft_pct\": \"1.000\", \"fta\": 10, \"mp\": \"35:00\", \"orb\": 0, \"pf\": 4, \"player\": \"Kelly Tripucka\", \"pts\": 22, \"stl\": 1, \"tov\": 4, \"trb\": 6}, {\"ast\": 2, \"blk\": 0, \"drb\": 5, \"fg\": 5, \"fg3\": 0, \"fg3_pct\": \"\", \"fg3a\": 0, \"fg_pct\": \".417\", \"fga\": 12, \"ft\": 1, \"ft_pct\": \".250\", \"fta\": 4, \"mp\": \"35:00\", \"orb\": 8, \"pf\": 4, \"player\": \"Earl Cureton\", \"pts\": 11, \"stl\": 1, \"tov\": 1, \"trb\": 13}, {\"ast\": 8, \"blk\": 0, \"drb\": 4, \"fg\": 4, \"fg3\": 0, \"fg3_pct\": \"\", \"fg3a\": 0, \"fg_pct\": \".400\", \"fga\": 10, \"ft\": 5, \"ft_pct\": \".625\", \"fta\": 8, \"mp\": \"34:00\", \"orb\": 0, \"pf\": 6, \"player\": \"Isiah Thomas\", \"pts\": 13, \"stl\": 4, \"tov\": 6, \"trb\": 4}, {\"ast\": 2, \"blk\": 0, \"drb\": 2, \"fg\": 3, \"fg3\": 0, \"fg3_pct\": \"\", \"fg3a\": 0, \"fg_pct\": \".300\", \"fga\": 10, \"ft\": 2, \"ft_pct\": \"1.000\", \"fta\": 2, \"mp\": \"26:00\", \"orb\": 3, \"pf\": 2, \"player\": \"Vinnie Johnson\", \"pts\": 8, \"stl\": 2, \"tov\": 0, \"trb\": 5}, {\"ast\": 3, \"blk\": 0, \"drb\": 2, \"fg\": 1, \"fg3\": 0, \"fg3_pct\": \"\", \"fg3a\": 0, \"fg_pct\": \".250\", \"fga\": 4, \"ft\": 3, \"ft_pct\": \".500\", \"fta\": 6, \"mp\": \"19:00\", \"orb\": 1, \"pf\": 2, \"player\": \"Joe Dumars\", \"pts\": 5, \"stl\": 0, \"tov\": 2, \"trb\": 3}, {\"ast\": 0, \"blk\": 0, \"drb\": 1, \"fg\": 6, \"fg3\": 0, \"fg3_pct\": \"\", \"fg3a\": 0, \"fg_pct\": \".667\", \"fga\": 9, \"ft\": 2, \"ft_pct\": \"1.000\", \"fta\": 2, \"mp\": \"17:00\", \"orb\": 1, \"pf\": 2, \"player\": \"John Long\", \"pts\": 14, \"stl\": 1, \"tov\": 1, \"trb\": 2}, {\"ast\": 1, \"blk\": 0, \"drb\": 3, \"fg\": 3, \"fg3\": 0, \"fg3_pct\": \"\", \"fg3a\": 0, \"fg_pct\": \".500\", \"fga\": 6, \"ft\": 4, \"ft_pct\": \"1.000\", \"fta\": 4, \"mp\": \"17:00\", \"orb\": 0, \"pf\": 4, \"player\": \"Rick Mahorn\", \"pts\": 10, \"stl\": 1, \"tov\": 4, \"trb\": 3}, {\"ast\": 0, \"blk\": 0, \"drb\": 4, \"fg\": 2, \"fg3\": 0, \"fg3_pct\": \"\", \"fg3a\": 0, \"fg_pct\": \".500\", \"fga\": 4, \"ft\": 0, \"ft_pct\": \"\", \"fta\": 0, \"mp\": \"13:00\", \"orb\": 1, \"pf\": 4, \"player\": \"Tony Campbell\", \"pts\": 4, \"stl\": 1, \"tov\": 1, \"trb\": 5}, {\"ast\": 0, \"blk\": 0, \"drb\": 2, \"fg\": 1, \"fg3\": 0, \"fg3_pct\": \"\", \"fg3a\": 0, \"fg_pct\": \".500\", \"fga\": 2, \"ft\": 1, \"ft_pct\": \"1.000\", \"fta\": 1, \"mp\": \"5:00\", \"orb\": 0, \"pf\": 0, \"player\": \"Kent Benson\", \"pts\": 3, \"stl\": 0, \"tov\": 0, \"trb\": 2}], \"city\": \"Detroit\"}, {\"name\": \"Milwaukee Bucks\", \"abbreviation\": \"MIL\", \"score\": 116, \"home\": false, \"won\": 0, \"results\": {\"ast\": 27, \"blk\": 7, \"drb\": 28, \"fg\": 42, \"fg3\": 2, \"fg3_pct\": \".400\", \"fg3a\": 5, \"fg_pct\": \".477\", \"fga\": 88, \"ft\": 30, \"ft_pct\": \".667\", \"fta\": 45, \"mp\": 240, \"orb\": 13, \"pf\": 32, \"pts\": 116, \"stl\": 10, \"tov\": 20, \"trb\": 41}, \"players\": [{\"ast\": 3, \"blk\": 1, \"drb\": 1, \"fg\": 10, \"fg3\": 2, \"fg3_pct\": \"1.000\", \"fg3a\": 2, \"fg_pct\": \".625\", \"fga\": 16, \"ft\": 7, \"ft_pct\": \".700\", \"fta\": 10, \"mp\": \"35:00\", \"orb\": 3, \"pf\": 2, \"player\": \"Sidney Moncrief\", \"pts\": 29, \"stl\": 3, \"tov\": 1, \"trb\": 4}, {\"ast\": 6, \"blk\": 2, \"drb\": 3, \"fg\": 5, \"fg3\": 0, \"fg3_pct\": \".000\", \"fg3a\": 1, \"fg_pct\": \".417\", \"fga\": 12, \"ft\": 8, \"ft_pct\": \".615\", \"fta\": 13, \"mp\": \"35:00\", \"orb\": 1, \"pf\": 5, \"player\": \"Paul Pressey\", \"pts\": 18, \"stl\": 1, \"tov\": 3, \"trb\": 4}, {\"ast\": 4, \"blk\": 0, \"drb\": 0, \"fg\": 3, \"fg3\": 0, \"fg3_pct\": \".000\", \"fg3a\": 1, \"fg_pct\": \".500\", \"fga\": 6, \"ft\": 0, \"ft_pct\": \"\", \"fta\": 0, \"mp\": \"32:00\", \"orb\": 1, \"pf\": 4, \"player\": \"Craig Hodges\", \"pts\": 6, \"stl\": 3, \"tov\": 4, \"trb\": 1}, {\"ast\": 6, \"blk\": 0, \"drb\": 7, \"fg\": 6, \"fg3\": 0, \"fg3_pct\": \"\", \"fg3a\": 0, \"fg_pct\": \".353\", \"fga\": 17, \"ft\": 4, \"ft_pct\": \".571\", \"fta\": 7, \"mp\": \"31:00\", \"orb\": 4, \"pf\": 4, \"player\": \"Terry Cummings\", \"pts\": 16, \"stl\": 0, \"tov\": 7, \"trb\": 11}, {\"ast\": 1, \"blk\": 3, \"drb\": 4, \"fg\": 3, \"fg3\": 0, \"fg3_pct\": \"\", \"fg3a\": 0, \"fg_pct\": \".429\", \"fga\": 7, \"ft\": 0, \"ft_pct\": \"\", \"fta\": 0, \"mp\": \"21:00\", \"orb\": 0, \"pf\": 4, \"player\": \"Alton Lister\", \"pts\": 6, \"stl\": 1, \"tov\": 1, \"trb\": 4}, {\"ast\": 3, \"blk\": 0, \"drb\": 4, \"fg\": 6, \"fg3\": 0, \"fg3_pct\": \"\", \"fg3a\": 0, \"fg_pct\": \".500\", \"fga\": 12, \"ft\": 5, \"ft_pct\": \".714\", \"fta\": 7, \"mp\": \"31:00\", \"orb\": 1, \"pf\": 4, \"player\": \"Ricky Pierce\", \"pts\": 17, \"stl\": 1, \"tov\": 2, \"trb\": 5}, {\"ast\": 2, \"blk\": 1, \"drb\": 4, \"fg\": 3, \"fg3\": 0, \"fg3_pct\": \"\", \"fg3a\": 0, \"fg_pct\": \".500\", \"fga\": 6, \"ft\": 4, \"ft_pct\": \".667\", \"fta\": 6, \"mp\": \"20:00\", \"orb\": 1, \"pf\": 3, \"player\": \"Randy Breuer\", \"pts\": 10, \"stl\": 1, \"tov\": 0, \"trb\": 5}, {\"ast\": 1, \"blk\": 0, \"drb\": 2, \"fg\": 4, \"fg3\": 0, \"fg3_pct\": \".000\", \"fg3a\": 1, \"fg_pct\": \".444\", \"fga\": 9, \"ft\": 0, \"ft_pct\": \"\", \"fta\": 0, \"mp\": \"20:00\", \"orb\": 1, \"pf\": 1, \"player\": \"Jeff Lamp\", \"pts\": 8, \"stl\": 0, \"tov\": 0, \"trb\": 3}, {\"ast\": 1, \"blk\": 0, \"drb\": 1, \"fg\": 2, \"fg3\": 0, \"fg3_pct\": \"\", \"fg3a\": 0, \"fg_pct\": \".667\", \"fga\": 3, \"ft\": 2, \"ft_pct\": \"1.000\", \"fta\": 2, \"mp\": \"8:00\", \"orb\": 1, \"pf\": 5, \"player\": \"Kenny Fields\", \"pts\": 6, \"stl\": 0, \"tov\": 2, \"trb\": 2}, {\"ast\": 0, \"blk\": 0, \"drb\": 2, \"fg\": 0, \"fg3\": 0, \"fg3_pct\": \"\", \"fg3a\": 0, \"fg_pct\": \"\", \"fga\": 0, \"ft\": 0, \"ft_pct\": \"\", \"fta\": 0, \"mp\": \"7:00\", \"orb\": 0, \"pf\": 0, \"player\": \"Paul Mokeski\", \"pts\": 0, \"stl\": 0, \"tov\": 0, \"trb\": 2}], \"city\": \"Milwaukee\"}], \"date\": {\"$date\": \"1985-10-25T04:00:00.000+0000\"}}, {\"_id\": {\"$oid\": \"52f29f93ddbd75540aba6db1\"}, \"teams\": [{\"name\": \"Denver Nuggets\", \"abbreviation\": \"DEN\", \"score\": 119, \"home\": false, \"won\": 1, \"results\": {\"ast\": 26, \"blk\": 3, \"drb\": 31, \"fg\": 42, \"fg3\": 1, \"fg3_pct\": \".333\", \"fg3a\": 3, \"fg_pct\": \".477\", \"fga\": 88, \"ft\": 34, \"ft_pct\": \".791\", \"fta\": 43, \"mp\": 240, \"orb\": 13, \"pf\": 40, \"pts\": 119, \"stl\": 11, \"tov\": 22, \"trb\": 44}, \"players\": [{\"ast\": 3, \"blk\": 1, \"drb\": 3, \"fg\": 16, \"fg3\": 0, \"fg3_pct\": \"\", \"fg3a\": 0, \"fg_pct\": \".516\", \"fga\": 31, \"ft\": 15, \"ft_pct\": \".833\", \"fta\": 18, \"mp\": \"39:00\", \"orb\": 2, \"pf\": 4, \"player\": \"Alex English\", \"pts\": 47, \"stl\": 1, \"tov\": 3, \"trb\": 5}, {\"ast\": 2, \"blk\": 0, \"drb\": 4, \"fg\": 8, \"fg3\": 0, \"fg3_pct\": \"\", \"fg3a\": 0, \"fg_pct\": \".471\", \"fga\": 17, \"ft\": 5, \"ft_pct\": \"1.000\", \"fta\": 5, \"mp\": \"35:00\", \"orb\": 0, \"pf\": 4, \"player\": \"Calvin Natt\", \"pts\": 21, \"stl\": 1, \"tov\": 3, \"trb\": 4}, {\"ast\": 1, \"blk\": 0, \"drb\": 2, \"fg\": 0, \"fg3\": 0, \"fg3_pct\": \"\", \"fg3a\": 0, \"fg_pct\": \".000\", \"fga\": 1, \"ft\": 0, \"ft_pct\": \".000\", \"fta\": 2, \"mp\": \"30:00\", \"orb\": 0, \"pf\": 2, \"player\": \"T.R. Dunn\", \"pts\": 0, \"stl\": 2, \"tov\": 1, \"trb\": 2}, {\"ast\": 7, \"blk\": 0, \"drb\": 2, \"fg\": 4, \"fg3\": 0, \"fg3_pct\": \"\", \"fg3a\": 0, \"fg_pct\": \".444\", \"fga\": 9, \"ft\": 3, \"ft_pct\": \".750\", \"fta\": 4, \"mp\": \"29:00\", \"orb\": 2, \"pf\": 4, \"player\": \"Fat Lever\", \"pts\": 11, \"stl\": 3, \"tov\": 1, \"trb\": 4}, {\"ast\": 1, \"blk\": 1, \"drb\": 4, \"fg\": 3, \"fg3\": 0, \"fg3_pct\": \"\", \"fg3a\": 0, \"fg_pct\": \".750\", \"fga\": 4, \"ft\": 3, \"ft_pct\": \".750\", \"fta\": 4, \"mp\": \"20:00\", \"orb\": 2, \"pf\": 5, \"player\": \"Wayne Cooper\", \"pts\": 9, \"stl\": 0, \"tov\": 1, \"trb\": 6}, {\"ast\": 6, \"blk\": 0, \"drb\": 2, \"fg\": 4, \"fg3\": 0, \"fg3_pct\": \"\", \"fg3a\": 0, \"fg_pct\": \".571\", \"fga\": 7, \"ft\": 3, \"ft_pct\": \".750\", \"fta\": 4, \"mp\": \"27:00\", \"orb\": 4, \"pf\": 5, \"player\": \"Bill Hanzlik\", \"pts\": 11, \"stl\": 1, \"tov\": 4, \"trb\": 6}, {\"ast\": 4, \"blk\": 0, \"drb\": 3, \"fg\": 2, \"fg3\": 1, \"fg3_pct\": \".500\", \"fg3a\": 2, \"fg_pct\": \".400\", \"fga\": 5, \"ft\": 2, \"ft_pct\": \"1.000\", \"fta\": 2, \"mp\": \"19:00\", \"orb\": 0, \"pf\": 2, \"player\": \"Mike Evans\", \"pts\": 7, \"stl\": 2, \"tov\": 2, \"trb\": 3}, {\"ast\": 2, \"blk\": 0, \"drb\": 3, \"fg\": 1, \"fg3\": 0, \"fg3_pct\": \".000\", \"fg3a\": 1, \"fg_pct\": \".333\", \"fga\": 3, \"ft\": 2, \"ft_pct\": \"1.000\", \"fta\": 2, \"mp\": \"18:00\", \"orb\": 0, \"pf\": 5, \"player\": \"Elston Turner\", \"pts\": 4, \"stl\": 0, \"tov\": 3, \"trb\": 3}, {\"ast\": 0, \"blk\": 1, \"drb\": 3, \"fg\": 1, \"fg3\": 0, \"fg3_pct\": \"\", \"fg3a\": 0, \"fg_pct\": \".250\", \"fga\": 4, \"ft\": 0, \"ft_pct\": \"\", \"fta\": 0, \"mp\": \"12:00\", \"orb\": 1, \"pf\": 5, \"player\": \"Danny Schayes\", \"pts\": 2, \"stl\": 0, \"tov\": 2, \"trb\": 4}, {\"ast\": 0, \"blk\": 0, \"drb\": 5, \"fg\": 3, \"fg3\": 0, \"fg3_pct\": \"\", \"fg3a\": 0, \"fg_pct\": \".429\", \"fga\": 7, \"ft\": 1, \"ft_pct\": \".500\", \"fta\": 2, \"mp\": \"11:00\", \"orb\": 2, \"pf\": 4, \"player\": \"Blair Rasmussen\", \"pts\": 7, \"stl\": 1, \"tov\": 2, \"trb\": 7}], \"city\": \"Denver\"}, {\"name\": \"Golden State Warriors\", \"abbreviation\": \"GSW\", \"score\": 105, \"home\": true, \"won\": 0, \"results\": {\"ast\": 17, \"blk\": 7, \"drb\": 29, \"fg\": 36, \"fg3\": 0, \"fg3_pct\": \".000\", \"fg3a\": 4, \"fg_pct\": \".396\", \"fga\": 91, \"ft\": 33, \"ft_pct\": \".635\", \"fta\": 52, \"mp\": 240, \"orb\": 18, \"pf\": 37, \"pts\": 105, \"stl\": 3, \"tov\": 28, \"trb\": 47}, \"players\": [{\"ast\": 3, \"blk\": 2, \"drb\": 10, \"fg\": 7, \"fg3\": 0, \"fg3_pct\": \"\", \"fg3a\": 0, \"fg_pct\": \".412\", \"fga\": 17, \"ft\": 7, \"ft_pct\": \".700\", \"fta\": 10, \"mp\": \"38:00\", \"orb\": 4, \"pf\": 4, \"player\": \"Joe Barry Carroll\", \"pts\": 21, \"stl\": 0, \"tov\": 11, \"trb\": 14}, {\"ast\": 9, \"blk\": 0, \"drb\": 1, \"fg\": 13, \"fg3\": 0, \"fg3_pct\": \".000\", \"fg3a\": 1, \"fg_pct\": \".542\", \"fga\": 24, \"ft\": 6, \"ft_pct\": \".667\", \"fta\": 9, \"mp\": \"35:00\", \"orb\": 1, \"pf\": 4, \"player\": \"Sleepy Floyd\", \"pts\": 32, \"stl\": 2, \"tov\": 12, \"trb\": 2}, {\"ast\": 0, \"blk\": 2, \"drb\": 1, \"fg\": 2, \"fg3\": 0, \"fg3_pct\": \".000\", \"fg3a\": 1, \"fg_pct\": \".222\", \"fga\": 9, \"ft\": 5, \"ft_pct\": \".714\", \"fta\": 7, \"mp\": \"34:00\", \"orb\": 0, \"pf\": 1, \"player\": \"Terry Teagle\", \"pts\": 9, \"stl\": 0, \"tov\": 2, \"trb\": 1}, {\"ast\": 0, \"blk\": 0, \"drb\": 4, \"fg\": 7, \"fg3\": 0, \"fg3_pct\": \"\", \"fg3a\": 0, \"fg_pct\": \".636\", \"fga\": 11, \"ft\": 5, \"ft_pct\": \".500\", \"fta\": 10, \"mp\": \"30:00\", \"orb\": 9, \"pf\": 6, \"player\": \"Larry Smith\", \"pts\": 19, \"stl\": 0, \"tov\": 1, \"trb\": 13}, {\"ast\": 1, \"blk\": 2, \"drb\": 7, \"fg\": 4, \"fg3\": 0, \"fg3_pct\": \"\", \"fg3a\": 0, \"fg_pct\": \".500\", \"fga\": 8, \"ft\": 0, \"ft_pct\": \".000\", \"fta\": 2, \"mp\": \"20:00\", \"orb\": 0, \"pf\": 6, \"player\": \"Peter Thibeaux\", \"pts\": 8, \"stl\": 0, \"tov\": 0, \"trb\": 7}, {\"ast\": 3, \"blk\": 0, \"drb\": 2, \"fg\": 0, \"fg3\": 0, \"fg3_pct\": \".000\", \"fg3a\": 1, \"fg_pct\": \".000\", \"fga\": 6, \"ft\": 5, \"ft_pct\": \".833\", \"fta\": 6, \"mp\": \"21:00\", \"orb\": 1, \"pf\": 0, \"player\": \"Lester Conner\", \"pts\": 5, \"stl\": 0, \"tov\": 1, \"trb\": 3}, {\"ast\": 0, \"blk\": 0, \"drb\": 1, \"fg\": 2, \"fg3\": 0, \"fg3_pct\": \"\", \"fg3a\": 0, \"fg_pct\": \".250\", \"fga\": 8, \"ft\": 2, \"ft_pct\": \"1.000\", \"fta\": 2, \"mp\": \"18:00\", \"orb\": 2, \"pf\": 4, \"player\": \"Jerome Whitehead\", \"pts\": 6, \"stl\": 0, \"tov\": 0, \"trb\": 3}, {\"ast\": 0, \"blk\": 0, \"drb\": 0, \"fg\": 1, \"fg3\": 0, \"fg3_pct\": \"\", \"fg3a\": 0, \"fg_pct\": \".500\", \"fga\": 2, \"ft\": 0, \"ft_pct\": \"\", \"fta\": 0, \"mp\": \"18:00\", \"orb\": 1, \"pf\": 6, \"player\": \"Pete Verhoeven\", \"pts\": 2, \"stl\": 0, \"tov\": 0, \"trb\": 1}, {\"ast\": 1, \"blk\": 0, \"drb\": 0, \"fg\": 0, \"fg3\": 0, \"fg3_pct\": \".000\", \"fg3a\": 1, \"fg_pct\": \".000\", \"fga\": 3, \"ft\": 2, \"ft_pct\": \".500\", \"fta\": 4, \"mp\": \"16:00\", \"orb\": 0, \"pf\": 0, \"player\": \"Geoff Huston\", \"pts\": 2, \"stl\": 1, \"tov\": 1, \"trb\": 0}, {\"ast\": 0, \"blk\": 1, \"drb\": 3, \"fg\": 0, \"fg3\": 0, \"fg3_pct\": \"\", \"fg3a\": 0, \"fg_pct\": \".000\", \"fga\": 2, \"ft\": 1, \"ft_pct\": \".500\", \"fta\": 2, \"mp\": \"9:00\", \"orb\": 0, \"pf\": 6, \"player\": \"Guy Williams\", \"pts\": 1, \"stl\": 0, \"tov\": 0, \"trb\": 3}, {\"ast\": 0, \"blk\": 0, \"drb\": 0, \"fg\": 0, \"fg3\": 0, \"fg3_pct\": \"\", \"fg3a\": 0, \"fg_pct\": \".000\", \"fga\": 1, \"ft\": 0, \"ft_pct\": \"\", \"fta\": 0, \"mp\": \"1:00\", \"orb\": 0, \"pf\": 0, \"player\": \"Ron Crevier\", \"pts\": 0, \"stl\": 0, \"tov\": 0, \"trb\": 0}], \"city\": \"Oakland\"}], \"date\": {\"$date\": \"1985-10-25T04:00:00.000+0000\"}}]}\n"
     ]
    }
   ],
   "source": [
    "# flag\n",
    "shortenJSON = False\n",
    "\n",
    "# SETUP: Set the input and schema JSONS, as well as the question. Once you set these, run all the cells. Answer is at the bottom.\n",
    "input = None\n",
    "with open(\"../mockData/Level 2/nba_games/nba_input.json\", 'r') as json_file:\n",
    "    if shortenJSON:\n",
    "        json_obj = extract_JSON_structure(json_file, 10000000, 15)\n",
    "    else:\n",
    "        json_obj = json.load(json_file)\n",
    "input_str = json.dumps(json_obj)\n",
    "input_json = json_obj\n",
    "\n",
    "schema = None\n",
    "with open(\"../mockData/Level 2/nba_games/nba_schema.json\", 'r') as json_file:\n",
    "    if shortenJSON:\n",
    "        json_obj = extract_JSON_structure(json_file, 10000000, 15)\n",
    "    else:\n",
    "        json_obj = json.load(json_file)\n",
    "\n",
    "    # Uncomment for nba games example\n",
    "    # del json_obj[\"games\"][0][\"teams\"][0][\"players\"]  \n",
    "    # del json_obj[\"games\"][0][\"teams\"][1][\"players\"]  \n",
    "    # del json_obj[\"games\"][1][\"teams\"][0][\"players\"]  \n",
    "    # del json_obj[\"games\"][1][\"teams\"][1][\"players\"]  \n",
    "    # del json_obj[\"games\"][2][\"teams\"][0][\"players\"]  \n",
    "    # del json_obj[\"games\"][2][\"teams\"][1][\"players\"]  \n",
    "    # del json_obj[\"games\"][3][\"teams\"][0][\"players\"]  \n",
    "    # del json_obj[\"games\"][3][\"teams\"][1][\"players\"]    \n",
    "schema_str = json.dumps(json_obj)\n",
    "\n",
    "user_request = \"what is the average number of violations issued?\"\n",
    "\n",
    "print(\"Input: \\n\" + input_str)\n",
    "print(\"Schema: \\n\" + schema_str)\n",
    "\n",
    "# Few shots\n",
    "with open(\"../mockData/fewshot_examples/validation/identify_required_keys.json\", 'r') as json_file:\n",
    "    example = json.load(json_file)\n",
    "req_key_example_str = json.dumps(example)\n",
    "\n",
    "with open(\"../mockData/fewshot_examples/validation/identify_required_keys_composition.json\", 'r') as json_file:\n",
    "    example = json.load(json_file)\n",
    "req_key_example_compose_str = json.dumps(example)\n",
    "\n",
    "with open(\"../mockData/fewshot_examples/validation/verify_key_existence_TRUE.json\", 'r') as json_file:\n",
    "    example = json.load(json_file)\n",
    "verify_key_exist_true_str = json.dumps(example)\n",
    "\n",
    "with open(\"../mockData/fewshot_examples/validation/verify_key_existence_FALSE.json\", 'r') as json_file:\n",
    "    example = json.load(json_file)\n",
    "verify_key_exist_false_str = json.dumps(example)\n",
    "\n"
   ]
  },
  {
   "cell_type": "code",
   "execution_count": 315,
   "metadata": {},
   "outputs": [
    {
     "ename": "InvalidRequestError",
     "evalue": "This model's maximum context length is 4097 tokens. However, your messages resulted in 13079 tokens. Please reduce the length of the messages.",
     "output_type": "error",
     "traceback": [
      "\u001b[1;31m---------------------------------------------------------------------------\u001b[0m",
      "\u001b[1;31mInvalidRequestError\u001b[0m                       Traceback (most recent call last)",
      "Cell \u001b[1;32mIn[315], line 30\u001b[0m\n\u001b[0;32m      3\u001b[0m message \u001b[38;5;241m=\u001b[39m (\n\u001b[0;32m      4\u001b[0m         \u001b[38;5;124mf\u001b[39m\u001b[38;5;124m\"\u001b[39m\u001b[38;5;124mI want you to write a function that will end up being part of a data analysis program\u001b[39m\u001b[38;5;130;01m\\n\u001b[39;00m\u001b[38;5;124m\"\u001b[39m\n\u001b[0;32m      5\u001b[0m         \u001b[38;5;124mf\u001b[39m\u001b[38;5;124m\"\u001b[39m\u001b[38;5;124mThere are multiple steps in the program, and you will help with the validation step\u001b[39m\u001b[38;5;130;01m\\n\u001b[39;00m\u001b[38;5;130;01m\\n\u001b[39;00m\u001b[38;5;124m\"\u001b[39m\n\u001b[1;32m   (...)\u001b[0m\n\u001b[0;32m     26\u001b[0m         \u001b[38;5;124mf\u001b[39m\u001b[38;5;124m\"\u001b[39m\u001b[38;5;124mNow identify the required keys for the given schema.\u001b[39m\u001b[38;5;124m\"\u001b[39m\n\u001b[0;32m     27\u001b[0m )\n\u001b[0;32m     29\u001b[0m chat\u001b[38;5;241m.\u001b[39madd_user_message(message)\n\u001b[1;32m---> 30\u001b[0m output \u001b[38;5;241m=\u001b[39m \u001b[43mchat\u001b[49m\u001b[38;5;241;43m.\u001b[39;49m\u001b[43mcomplete_chat\u001b[49m\u001b[43m(\u001b[49m\u001b[43m)\u001b[49m\n\u001b[0;32m     31\u001b[0m \u001b[38;5;28mprint\u001b[39m(output)\n",
      "File \u001b[1;32m~\\OneDrive\\Documents\\University\\Research\\MatterLab\\Fibers\\build\\__editable__.Fibers-0.1.0-py3-none-any\\fibers\\model\\chat.py:75\u001b[0m, in \u001b[0;36mChat.complete_chat\u001b[1;34m(self, options)\u001b[0m\n\u001b[0;32m     73\u001b[0m options \u001b[38;5;241m=\u001b[39m options \u001b[38;5;129;01mor\u001b[39;00m {}\n\u001b[0;32m     74\u001b[0m \u001b[38;5;28;01mif\u001b[39;00m use_openai_model(options):\n\u001b[1;32m---> 75\u001b[0m     res \u001b[38;5;241m=\u001b[39m \u001b[43mopenai_complete_chat\u001b[49m\u001b[43m(\u001b[49m\u001b[38;5;28;43mself\u001b[39;49m\u001b[43m,\u001b[49m\u001b[43m \u001b[49m\u001b[43moptions\u001b[49m\u001b[38;5;241;43m=\u001b[39;49m\u001b[43moptions\u001b[49m\u001b[43m)\u001b[49m\n\u001b[0;32m     76\u001b[0m \u001b[38;5;28;01melse\u001b[39;00m:\n\u001b[0;32m     77\u001b[0m     res \u001b[38;5;241m=\u001b[39m openllm_complete_chat(\u001b[38;5;28mself\u001b[39m, options\u001b[38;5;241m=\u001b[39moptions)\n",
      "File \u001b[1;32m~\\OneDrive\\Documents\\University\\Research\\MatterLab\\Fibers\\build\\__editable__.Fibers-0.1.0-py3-none-any\\fibers\\model\\openai.py:24\u001b[0m, in \u001b[0;36m_complete_chat\u001b[1;34m(chat, options)\u001b[0m\n\u001b[0;32m     22\u001b[0m options \u001b[38;5;241m=\u001b[39m options \u001b[38;5;129;01mor\u001b[39;00m {}\n\u001b[0;32m     23\u001b[0m _options \u001b[38;5;241m=\u001b[39m {\u001b[38;5;241m*\u001b[39m\u001b[38;5;241m*\u001b[39moptions, \u001b[38;5;124m\"\u001b[39m\u001b[38;5;124mmodel\u001b[39m\u001b[38;5;124m\"\u001b[39m: normal_model}\n\u001b[1;32m---> 24\u001b[0m \u001b[38;5;28;01mreturn\u001b[39;00m \u001b[43mopenai\u001b[49m\u001b[38;5;241;43m.\u001b[39;49m\u001b[43mChatCompletion\u001b[49m\u001b[38;5;241;43m.\u001b[39;49m\u001b[43mcreate\u001b[49m\u001b[43m(\u001b[49m\n\u001b[0;32m     25\u001b[0m \u001b[43m    \u001b[49m\u001b[43mmessages\u001b[49m\u001b[38;5;241;43m=\u001b[39;49m\u001b[43mchat\u001b[49m\u001b[38;5;241;43m.\u001b[39;49m\u001b[43mget_log_list\u001b[49m\u001b[43m(\u001b[49m\u001b[43m)\u001b[49m\u001b[43m,\u001b[49m\u001b[43m \u001b[49m\u001b[38;5;241;43m*\u001b[39;49m\u001b[38;5;241;43m*\u001b[39;49m\u001b[43m_options\u001b[49m\u001b[43m)\u001b[49m\u001b[38;5;241m.\u001b[39mchoices[\n\u001b[0;32m     26\u001b[0m     \u001b[38;5;241m0\u001b[39m]\u001b[38;5;241m.\u001b[39mmessage\u001b[38;5;241m.\u001b[39mcontent\n",
      "File \u001b[1;32mc:\\Users\\youse\\miniconda3\\Lib\\site-packages\\openai\\api_resources\\chat_completion.py:25\u001b[0m, in \u001b[0;36mChatCompletion.create\u001b[1;34m(cls, *args, **kwargs)\u001b[0m\n\u001b[0;32m     23\u001b[0m \u001b[38;5;28;01mwhile\u001b[39;00m \u001b[38;5;28;01mTrue\u001b[39;00m:\n\u001b[0;32m     24\u001b[0m     \u001b[38;5;28;01mtry\u001b[39;00m:\n\u001b[1;32m---> 25\u001b[0m         \u001b[38;5;28;01mreturn\u001b[39;00m \u001b[38;5;28;43msuper\u001b[39;49m\u001b[43m(\u001b[49m\u001b[43m)\u001b[49m\u001b[38;5;241;43m.\u001b[39;49m\u001b[43mcreate\u001b[49m\u001b[43m(\u001b[49m\u001b[38;5;241;43m*\u001b[39;49m\u001b[43margs\u001b[49m\u001b[43m,\u001b[49m\u001b[43m \u001b[49m\u001b[38;5;241;43m*\u001b[39;49m\u001b[38;5;241;43m*\u001b[39;49m\u001b[43mkwargs\u001b[49m\u001b[43m)\u001b[49m\n\u001b[0;32m     26\u001b[0m     \u001b[38;5;28;01mexcept\u001b[39;00m TryAgain \u001b[38;5;28;01mas\u001b[39;00m e:\n\u001b[0;32m     27\u001b[0m         \u001b[38;5;28;01mif\u001b[39;00m timeout \u001b[38;5;129;01mis\u001b[39;00m \u001b[38;5;129;01mnot\u001b[39;00m \u001b[38;5;28;01mNone\u001b[39;00m \u001b[38;5;129;01mand\u001b[39;00m time\u001b[38;5;241m.\u001b[39mtime() \u001b[38;5;241m>\u001b[39m start \u001b[38;5;241m+\u001b[39m timeout:\n",
      "File \u001b[1;32mc:\\Users\\youse\\miniconda3\\Lib\\site-packages\\openai\\api_resources\\abstract\\engine_api_resource.py:153\u001b[0m, in \u001b[0;36mEngineAPIResource.create\u001b[1;34m(cls, api_key, api_base, api_type, request_id, api_version, organization, **params)\u001b[0m\n\u001b[0;32m    127\u001b[0m \u001b[38;5;129m@classmethod\u001b[39m\n\u001b[0;32m    128\u001b[0m \u001b[38;5;28;01mdef\u001b[39;00m \u001b[38;5;21mcreate\u001b[39m(\n\u001b[0;32m    129\u001b[0m     \u001b[38;5;28mcls\u001b[39m,\n\u001b[1;32m   (...)\u001b[0m\n\u001b[0;32m    136\u001b[0m     \u001b[38;5;241m*\u001b[39m\u001b[38;5;241m*\u001b[39mparams,\n\u001b[0;32m    137\u001b[0m ):\n\u001b[0;32m    138\u001b[0m     (\n\u001b[0;32m    139\u001b[0m         deployment_id,\n\u001b[0;32m    140\u001b[0m         engine,\n\u001b[1;32m   (...)\u001b[0m\n\u001b[0;32m    150\u001b[0m         api_key, api_base, api_type, api_version, organization, \u001b[38;5;241m*\u001b[39m\u001b[38;5;241m*\u001b[39mparams\n\u001b[0;32m    151\u001b[0m     )\n\u001b[1;32m--> 153\u001b[0m     response, _, api_key \u001b[38;5;241m=\u001b[39m \u001b[43mrequestor\u001b[49m\u001b[38;5;241;43m.\u001b[39;49m\u001b[43mrequest\u001b[49m\u001b[43m(\u001b[49m\n\u001b[0;32m    154\u001b[0m \u001b[43m        \u001b[49m\u001b[38;5;124;43m\"\u001b[39;49m\u001b[38;5;124;43mpost\u001b[39;49m\u001b[38;5;124;43m\"\u001b[39;49m\u001b[43m,\u001b[49m\n\u001b[0;32m    155\u001b[0m \u001b[43m        \u001b[49m\u001b[43murl\u001b[49m\u001b[43m,\u001b[49m\n\u001b[0;32m    156\u001b[0m \u001b[43m        \u001b[49m\u001b[43mparams\u001b[49m\u001b[38;5;241;43m=\u001b[39;49m\u001b[43mparams\u001b[49m\u001b[43m,\u001b[49m\n\u001b[0;32m    157\u001b[0m \u001b[43m        \u001b[49m\u001b[43mheaders\u001b[49m\u001b[38;5;241;43m=\u001b[39;49m\u001b[43mheaders\u001b[49m\u001b[43m,\u001b[49m\n\u001b[0;32m    158\u001b[0m \u001b[43m        \u001b[49m\u001b[43mstream\u001b[49m\u001b[38;5;241;43m=\u001b[39;49m\u001b[43mstream\u001b[49m\u001b[43m,\u001b[49m\n\u001b[0;32m    159\u001b[0m \u001b[43m        \u001b[49m\u001b[43mrequest_id\u001b[49m\u001b[38;5;241;43m=\u001b[39;49m\u001b[43mrequest_id\u001b[49m\u001b[43m,\u001b[49m\n\u001b[0;32m    160\u001b[0m \u001b[43m        \u001b[49m\u001b[43mrequest_timeout\u001b[49m\u001b[38;5;241;43m=\u001b[39;49m\u001b[43mrequest_timeout\u001b[49m\u001b[43m,\u001b[49m\n\u001b[0;32m    161\u001b[0m \u001b[43m    \u001b[49m\u001b[43m)\u001b[49m\n\u001b[0;32m    163\u001b[0m     \u001b[38;5;28;01mif\u001b[39;00m stream:\n\u001b[0;32m    164\u001b[0m         \u001b[38;5;66;03m# must be an iterator\u001b[39;00m\n\u001b[0;32m    165\u001b[0m         \u001b[38;5;28;01massert\u001b[39;00m \u001b[38;5;129;01mnot\u001b[39;00m \u001b[38;5;28misinstance\u001b[39m(response, OpenAIResponse)\n",
      "File \u001b[1;32mc:\\Users\\youse\\miniconda3\\Lib\\site-packages\\openai\\api_requestor.py:298\u001b[0m, in \u001b[0;36mAPIRequestor.request\u001b[1;34m(self, method, url, params, headers, files, stream, request_id, request_timeout)\u001b[0m\n\u001b[0;32m    277\u001b[0m \u001b[38;5;28;01mdef\u001b[39;00m \u001b[38;5;21mrequest\u001b[39m(\n\u001b[0;32m    278\u001b[0m     \u001b[38;5;28mself\u001b[39m,\n\u001b[0;32m    279\u001b[0m     method,\n\u001b[1;32m   (...)\u001b[0m\n\u001b[0;32m    286\u001b[0m     request_timeout: Optional[Union[\u001b[38;5;28mfloat\u001b[39m, Tuple[\u001b[38;5;28mfloat\u001b[39m, \u001b[38;5;28mfloat\u001b[39m]]] \u001b[38;5;241m=\u001b[39m \u001b[38;5;28;01mNone\u001b[39;00m,\n\u001b[0;32m    287\u001b[0m ) \u001b[38;5;241m-\u001b[39m\u001b[38;5;241m>\u001b[39m Tuple[Union[OpenAIResponse, Iterator[OpenAIResponse]], \u001b[38;5;28mbool\u001b[39m, \u001b[38;5;28mstr\u001b[39m]:\n\u001b[0;32m    288\u001b[0m     result \u001b[38;5;241m=\u001b[39m \u001b[38;5;28mself\u001b[39m\u001b[38;5;241m.\u001b[39mrequest_raw(\n\u001b[0;32m    289\u001b[0m         method\u001b[38;5;241m.\u001b[39mlower(),\n\u001b[0;32m    290\u001b[0m         url,\n\u001b[1;32m   (...)\u001b[0m\n\u001b[0;32m    296\u001b[0m         request_timeout\u001b[38;5;241m=\u001b[39mrequest_timeout,\n\u001b[0;32m    297\u001b[0m     )\n\u001b[1;32m--> 298\u001b[0m     resp, got_stream \u001b[38;5;241m=\u001b[39m \u001b[38;5;28;43mself\u001b[39;49m\u001b[38;5;241;43m.\u001b[39;49m\u001b[43m_interpret_response\u001b[49m\u001b[43m(\u001b[49m\u001b[43mresult\u001b[49m\u001b[43m,\u001b[49m\u001b[43m \u001b[49m\u001b[43mstream\u001b[49m\u001b[43m)\u001b[49m\n\u001b[0;32m    299\u001b[0m     \u001b[38;5;28;01mreturn\u001b[39;00m resp, got_stream, \u001b[38;5;28mself\u001b[39m\u001b[38;5;241m.\u001b[39mapi_key\n",
      "File \u001b[1;32mc:\\Users\\youse\\miniconda3\\Lib\\site-packages\\openai\\api_requestor.py:700\u001b[0m, in \u001b[0;36mAPIRequestor._interpret_response\u001b[1;34m(self, result, stream)\u001b[0m\n\u001b[0;32m    692\u001b[0m     \u001b[38;5;28;01mreturn\u001b[39;00m (\n\u001b[0;32m    693\u001b[0m         \u001b[38;5;28mself\u001b[39m\u001b[38;5;241m.\u001b[39m_interpret_response_line(\n\u001b[0;32m    694\u001b[0m             line, result\u001b[38;5;241m.\u001b[39mstatus_code, result\u001b[38;5;241m.\u001b[39mheaders, stream\u001b[38;5;241m=\u001b[39m\u001b[38;5;28;01mTrue\u001b[39;00m\n\u001b[0;32m    695\u001b[0m         )\n\u001b[0;32m    696\u001b[0m         \u001b[38;5;28;01mfor\u001b[39;00m line \u001b[38;5;129;01min\u001b[39;00m parse_stream(result\u001b[38;5;241m.\u001b[39miter_lines())\n\u001b[0;32m    697\u001b[0m     ), \u001b[38;5;28;01mTrue\u001b[39;00m\n\u001b[0;32m    698\u001b[0m \u001b[38;5;28;01melse\u001b[39;00m:\n\u001b[0;32m    699\u001b[0m     \u001b[38;5;28;01mreturn\u001b[39;00m (\n\u001b[1;32m--> 700\u001b[0m         \u001b[38;5;28;43mself\u001b[39;49m\u001b[38;5;241;43m.\u001b[39;49m\u001b[43m_interpret_response_line\u001b[49m\u001b[43m(\u001b[49m\n\u001b[0;32m    701\u001b[0m \u001b[43m            \u001b[49m\u001b[43mresult\u001b[49m\u001b[38;5;241;43m.\u001b[39;49m\u001b[43mcontent\u001b[49m\u001b[38;5;241;43m.\u001b[39;49m\u001b[43mdecode\u001b[49m\u001b[43m(\u001b[49m\u001b[38;5;124;43m\"\u001b[39;49m\u001b[38;5;124;43mutf-8\u001b[39;49m\u001b[38;5;124;43m\"\u001b[39;49m\u001b[43m)\u001b[49m\u001b[43m,\u001b[49m\n\u001b[0;32m    702\u001b[0m \u001b[43m            \u001b[49m\u001b[43mresult\u001b[49m\u001b[38;5;241;43m.\u001b[39;49m\u001b[43mstatus_code\u001b[49m\u001b[43m,\u001b[49m\n\u001b[0;32m    703\u001b[0m \u001b[43m            \u001b[49m\u001b[43mresult\u001b[49m\u001b[38;5;241;43m.\u001b[39;49m\u001b[43mheaders\u001b[49m\u001b[43m,\u001b[49m\n\u001b[0;32m    704\u001b[0m \u001b[43m            \u001b[49m\u001b[43mstream\u001b[49m\u001b[38;5;241;43m=\u001b[39;49m\u001b[38;5;28;43;01mFalse\u001b[39;49;00m\u001b[43m,\u001b[49m\n\u001b[0;32m    705\u001b[0m \u001b[43m        \u001b[49m\u001b[43m)\u001b[49m,\n\u001b[0;32m    706\u001b[0m         \u001b[38;5;28;01mFalse\u001b[39;00m,\n\u001b[0;32m    707\u001b[0m     )\n",
      "File \u001b[1;32mc:\\Users\\youse\\miniconda3\\Lib\\site-packages\\openai\\api_requestor.py:765\u001b[0m, in \u001b[0;36mAPIRequestor._interpret_response_line\u001b[1;34m(self, rbody, rcode, rheaders, stream)\u001b[0m\n\u001b[0;32m    763\u001b[0m stream_error \u001b[38;5;241m=\u001b[39m stream \u001b[38;5;129;01mand\u001b[39;00m \u001b[38;5;124m\"\u001b[39m\u001b[38;5;124merror\u001b[39m\u001b[38;5;124m\"\u001b[39m \u001b[38;5;129;01min\u001b[39;00m resp\u001b[38;5;241m.\u001b[39mdata\n\u001b[0;32m    764\u001b[0m \u001b[38;5;28;01mif\u001b[39;00m stream_error \u001b[38;5;129;01mor\u001b[39;00m \u001b[38;5;129;01mnot\u001b[39;00m \u001b[38;5;241m200\u001b[39m \u001b[38;5;241m<\u001b[39m\u001b[38;5;241m=\u001b[39m rcode \u001b[38;5;241m<\u001b[39m \u001b[38;5;241m300\u001b[39m:\n\u001b[1;32m--> 765\u001b[0m     \u001b[38;5;28;01mraise\u001b[39;00m \u001b[38;5;28mself\u001b[39m\u001b[38;5;241m.\u001b[39mhandle_error_response(\n\u001b[0;32m    766\u001b[0m         rbody, rcode, resp\u001b[38;5;241m.\u001b[39mdata, rheaders, stream_error\u001b[38;5;241m=\u001b[39mstream_error\n\u001b[0;32m    767\u001b[0m     )\n\u001b[0;32m    768\u001b[0m \u001b[38;5;28;01mreturn\u001b[39;00m resp\n",
      "\u001b[1;31mInvalidRequestError\u001b[0m: This model's maximum context length is 4097 tokens. However, your messages resulted in 13079 tokens. Please reduce the length of the messages."
     ]
    }
   ],
   "source": [
    "chat = Chat(\"You are a helpful AI assistant that validates JSONs\")\n",
    "\n",
    "message = (\n",
    "        f\"I want you to write a function that will end up being part of a data analysis program\\n\"\n",
    "        f\"There are multiple steps in the program, and you will help with the validation step\\n\\n\"\n",
    "\n",
    "        f\"Here are your instructions:\\n\"\n",
    "        f\"Assume a user sends this query: {user_request}\\n\"\n",
    "        f\"Use the following JSON schema for reference: {schema_str}\"\n",
    "        f\"Identify what keys will be needed to complete the query.If you want to find a certain property, but \" # Might need to improve upon this\n",
    "        f\"a key for it doesn't exist, see if you can calculate that property using the other keys\\n\\n\"\n",
    "\n",
    "        f\"To help you, the following is an example of identifying the correct keys for an input JSON.\\n\\n\"\n",
    "\n",
    "        f\"The example input JSON:\\n\"\n",
    "        f\"{req_key_example_str}\\n\\n\"\n",
    "\n",
    "        f\"Query: what is the average page view count?\\n\\n\"\n",
    "\n",
    "        f\"The required keys you should identify in this example are:\\n\"\n",
    "        f\"the websites > pages > page_views key, because that is what you need in order to calculate the average page view count\\n\"\n",
    "        f\"the websites > pages key, because that is where the page objects are stored\\n\"\n",
    "        f\"the websites key, because that is where all the site data is stored\\n\\n\"\n",
    "\n",
    "        \n",
    "        f\"Now identify the required keys for the given schema.\"\n",
    ")\n",
    "\n",
    "chat.add_user_message(message)\n",
    "output = chat.complete_chat()\n",
    "print(output)\n",
    "\n"
   ]
  },
  {
   "cell_type": "code",
   "execution_count": null,
   "metadata": {},
   "outputs": [
    {
     "name": "stdout",
     "output_type": "stream",
     "text": [
      "```python\n",
      "def required_keys_exist(input_json):\n",
      "    if \"stats\" in input_json and \"responses\" in input_json[\"stats\"] and \"total\" in input_json[\"stats\"][\"responses\"]:\n",
      "        return True\n",
      "    else:\n",
      "        return False\n",
      "```\n"
     ]
    }
   ],
   "source": [
    "message = (\n",
    "    f\"The next part of the validation step is to write a function that checks if the required keys you just identified exist in an input JSON as a dictionary:\\n\"\n",
    "    f\"Write a function called required_keys_exist that takes in an input JSON as a dictionary and returns True if the input JSON has the \"\n",
    "    f\"required keys you previously identified, or False if not.\\n\"\n",
    "    f\"Do not provide any example usage or explanation. Do not use any modules that would need to be imported. \\n\"\n",
    "    f\"Begin the function with ```python and end it with ```\\n\"\n",
    "    f\"To help you, the following are examples of verifying if the required keys for the query exist in an input JSON.\\n\\n\" \n",
    "\n",
    "    f\"For the following examples:\\n\"\n",
    "    f\"schema: {req_key_example_str}\\n\"\n",
    "    f\"Query: what is the average page view count?\\n\"\n",
    "    f\"Assume you previously identified that the required keys were websites, pages, and page_views.\\n\\n\"\n",
    "\n",
    "    f\"EXAMPLE 1:\\n\\n\"\n",
    "\n",
    "    f\"The example input JSON:\\n\"\n",
    "    f\"{verify_key_exist_true_str}\\n\\n\"\n",
    "\n",
    "    f\"The required_keys_exist function you write should return true for this input JSON because the websites, pages, and page_views attributes all exist\\n\\n\"\n",
    "\n",
    "    f\"EXAMPLE 2:\\n\\n\"\n",
    "\n",
    "    f\"The example input JSON:\\n\"\n",
    "    f\"{verify_key_exist_false_str}\\n\\n\"\n",
    "\n",
    "    f\"The required_keys_exist function you write should return false for this input JSON because the page_views attribute does not exist for one of the pages, so you can’t calculate the average of all the pages\\n\\n\"\n",
    "\n",
    "    # Hack - to fix a common mistake\n",
    "\n",
    "    # f\"NOTE: DO NOT WRITE THE FUNCTION LIKE THIS:\" +\n",
    "    # '''\n",
    "    # def required_keys_exist(input_json):\n",
    "    #     required_keys = [\"websites\", \"pages\", \"page_views\"]\n",
    "\n",
    "    #     for key in required_keys:\n",
    "    #         if not isinstance(input_json, dict) or key not in input_json:\n",
    "    #             return False\n",
    "    #         input_json = input_json[key]\n",
    "\n",
    "    # return True\n",
    "    \n",
    "    # ''' +\n",
    "\n",
    "    # f\"NOTE: DO NOT MAKE A MISTAKE LIKE THE FOLLOWING WHEN WRITING THE FUNCTION\" + \n",
    "    # '''\n",
    "    # def required_keys_exist(input_json):\n",
    "    # required_keys = [\"websites\", \"pages\", \"page_views\"]\n",
    "\n",
    "    # for key in required_keys:\n",
    "    #     if not isinstance(input_json, dict) or key not in input_json:\n",
    "    #         return False\n",
    "    #     input_json = input_json[key]\n",
    "\n",
    "    # return True\n",
    "    \n",
    "    # ''' +\n",
    "    # f\"The above is wrong because in this example, input_json[websites] is a list, so it will pass the if statement and return False when it shouldn't. Instead, you should check if the pages key exists in every object in the list\"\n",
    "    \n",
    "    # # Hack 2\n",
    "\n",
    "    # f\"NOTE: DO NOT MAKE THIS MISTAKE EITHER\" + \n",
    "    # '''\n",
    "    # def required_keys_exist(input_json):\n",
    "    # required_keys = [\"websites\", \"pages\", \"page_views\"]\n",
    "\n",
    "    # for key in required_keys:\n",
    "    #     if not isinstance(input_json, dict) or key not in input_json:\n",
    "    #         return False\n",
    "    #     input_json = input_json[key]\n",
    "\n",
    "    #     if key == \"pages\":\n",
    "    #         ... handle the list case separately\n",
    "\n",
    "    # return True\n",
    "    \n",
    "    # ''' +\n",
    "    # f\"The above is wrong because in this example, if the key is \\\"pages\\\", the input_json variable will be a list, and so the first if statement of the loop then return False before it gets to the second if statement. DO NOT MAKE THIS MISTAKE\"\n",
    "    \n",
    "    f\"TIP: for JSONs like the examples above, write the function in the following style:\" + \n",
    "    '''\n",
    "    def required_keys_exist(input_json):\n",
    "        if \"websites\" in input_json:\n",
    "            for website in input_json[\"websites\"]:\n",
    "                if \"pages\" in result:\n",
    "                    for page in result[\"pages\"]:\n",
    "                        if \"page_views\" not in score:\n",
    "                            return False\n",
    "                else:\n",
    "                    return False\n",
    "        else:\n",
    "            return False\n",
    "\n",
    "        return True\n",
    "\n",
    "    '''\n",
    "    \n",
    "    f\"Now write the function.\\n\"\n",
    ")\n",
    "chat.add_user_message(message)\n",
    "output = chat.complete_chat()\n",
    "print(output)"
   ]
  },
  {
   "cell_type": "code",
   "execution_count": null,
   "metadata": {},
   "outputs": [
    {
     "name": "stdout",
     "output_type": "stream",
     "text": [
      "def required_keys_exist(input_json):\n",
      "    if \"stats\" in input_json and \"responses\" in input_json[\"stats\"] and \"total\" in input_json[\"stats\"][\"responses\"]:\n",
      "        return True\n",
      "    else:\n",
      "        return False\n",
      "\n"
     ]
    }
   ],
   "source": [
    "# Extract the code from the response\n",
    "res = output.split(\"```python\\n\")\n",
    "res = res[1].split(\"```\")\n",
    "code = res[0]\n",
    "print(code)"
   ]
  },
  {
   "cell_type": "code",
   "execution_count": null,
   "metadata": {},
   "outputs": [],
   "source": [
    "# Run the code and get the function\n",
    "exec(code)\n",
    "has_required_keys = eval('required_keys_exist')"
   ]
  },
  {
   "cell_type": "code",
   "execution_count": null,
   "metadata": {},
   "outputs": [
    {
     "name": "stdout",
     "output_type": "stream",
     "text": [
      "True\n"
     ]
    }
   ],
   "source": [
    "print(has_required_keys(input_json))"
   ]
  },
  {
   "cell_type": "markdown",
   "metadata": {},
   "source": [
    "# Generate Answer"
   ]
  },
  {
   "cell_type": "code",
   "execution_count": null,
   "metadata": {},
   "outputs": [
    {
     "name": "stdout",
     "output_type": "stream",
     "text": [
      "Apologies for the confusion in my previous response. Based on the user's query, the required keys to complete the query are the following:\n",
      "\n",
      "- stats > responses > total: This key provides the total number of violations issued.\n",
      "\n",
      "Please use the revised version of the `required_keys_exist` function:\n",
      "\n",
      "```python\n",
      "def required_keys_exist(input_json):\n",
      "    if \"stats\" in input_json and \"responses\" in input_json[\"stats\"] and \"total\" in input_json[\"stats\"][\"responses\"]:\n",
      "        return True\n",
      "    else:\n",
      "        return False\n",
      "```\n"
     ]
    }
   ],
   "source": [
    "message = (\n",
    "    f\"Which keys did you determine were required to complete the users query?\"\n",
    ")\n",
    "chat.add_user_message(message)\n",
    "output = chat.complete_chat()\n",
    "print(output) # Just to check"
   ]
  },
  {
   "cell_type": "code",
   "execution_count": null,
   "metadata": {},
   "outputs": [
    {
     "name": "stdout",
     "output_type": "stream",
     "text": [
      "```python\n",
      "def generate_answer(input_json):\n",
      "    total_violations = input_json[\"stats\"][\"responses\"][\"total\"]\n",
      "    return f\"The average number of violations issued is {total_violations}.\"\n",
      "```\n"
     ]
    }
   ],
   "source": [
    "message = (\n",
    "\n",
    "    f\"Now, assume the user query is still: {user_request}\"\n",
    "\n",
    "    f\"Write a function called generate_answer that takes in an input JSON, and assumes the keys you determined necessary to complete the \"\n",
    "    f\"user query exist in it. With this assumption, it uses them to complete the user query.\\n\"\n",
    "    f\"Do not provide any example usage or explanation. Do not use any modules that would need to be imported. \\n\"\n",
    "    f\"Begin the function with ```python and end it with ```\\n\"\n",
    "    f\"Remember that some of the strings are truncated and have '...' appended to them! So if you need to use those values, you'll have to use the truncated value WITH the '...'\" # Hack\n",
    ")\n",
    "\n",
    "# Idea: add \"think it through step by step\" to the message\n",
    "\n",
    "chat.add_user_message(message)\n",
    "output = chat.complete_chat()\n",
    "\n",
    "print(output)\n"
   ]
  },
  {
   "cell_type": "code",
   "execution_count": null,
   "metadata": {},
   "outputs": [
    {
     "name": "stdout",
     "output_type": "stream",
     "text": [
      "def generate_answer(input_json):\n",
      "    total_violations = input_json[\"stats\"][\"responses\"][\"total\"]\n",
      "    return f\"The average number of violations issued is {total_violations}.\"\n",
      "\n"
     ]
    }
   ],
   "source": [
    " # Extract the code from the response\n",
    "\n",
    "res = output.split(\"```python\\n\")\n",
    "res = res[1].split(\"```\")\n",
    "code = res[0]\n",
    "print(code)"
   ]
  },
  {
   "cell_type": "code",
   "execution_count": null,
   "metadata": {},
   "outputs": [],
   "source": [
    "# Run the code and get the function\n",
    "exec(code)\n",
    "analyze_data = eval('generate_answer')"
   ]
  },
  {
   "cell_type": "code",
   "execution_count": null,
   "metadata": {},
   "outputs": [
    {
     "name": "stdout",
     "output_type": "stream",
     "text": [
      "The average number of violations issued is 3805.\n"
     ]
    }
   ],
   "source": [
    "res = analyze_data(input_json)\n",
    "print(res)"
   ]
  }
 ],
 "metadata": {
  "kernelspec": {
   "display_name": "base",
   "language": "python",
   "name": "python3"
  },
  "language_info": {
   "codemirror_mode": {
    "name": "ipython",
    "version": 3
   },
   "file_extension": ".py",
   "mimetype": "text/x-python",
   "name": "python",
   "nbconvert_exporter": "python",
   "pygments_lexer": "ipython3",
   "version": "3.11.5"
  }
 },
 "nbformat": 4,
 "nbformat_minor": 2
}
