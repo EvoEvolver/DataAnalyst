{
 "cells": [
  {
   "cell_type": "markdown",
   "metadata": {},
   "source": [
    "### Correct responses\n",
    "13:00\n",
    "abcdef\n",
    "\n",
    "schema_str = \"https://www.youtube.com/\"\n",
    "input_str = \"https://www.aljazeera.com/\"\n",
    "\n",
    "schema_str = \"https://www.youtube.com/\"\n",
    "input_str = \"The weather is clear\"\n",
    "\n",
    "schema_str = \"34 kg\"\n",
    "input_str = \"52 kg\"\n",
    "\n",
    "### Incorrect responses\n",
    "\n",
    "\n",
    "### Both correct and incorrect\n",
    "13:00\n",
    "15:24\n",
    "\n",
    "### Vague on what is considered correct\n",
    "schema_str = \"34 lbs\"\n",
    "input_str = \"52 kg\"\n",
    "For this, it said they both follow the format of \"number unit\"\n",
    "\n",
    "schema_str = \"https://www.linkedin.com/in/yousef-bulbulia/\"\n",
    "input_str = \"https://github.com/Yousef-Bulbulia\"\n",
    "Response: \"Based on the provided strings, it seems like the first string is a LinkedIn profile URL and the second string is a GitHub profile URL. There is no specific format that both strings need to match, as they belong to different platforms and serve different purposes.\""
   ]
  },
  {
   "cell_type": "code",
   "execution_count": 9,
   "metadata": {},
   "outputs": [
    {
     "name": "stdout",
     "output_type": "stream",
     "text": [
      "Based on the provided strings, it seems like the first string is a LinkedIn profile URL and the second string is a GitHub profile URL. There is no specific format that both strings need to match, as they belong to different platforms and serve different purposes.\n"
     ]
    }
   ],
   "source": [
    "# Get validator response\n",
    "from fibers.model.chat import Chat\n",
    "\n",
    "schema_str = \"https://www.linkedin.com/in/yousef-bulbulia/\"\n",
    "input_str = \"https://github.com/Yousef-Bulbulia\"\n",
    "user_message = f\"Does the second string below match the first string's format, if there is even a format?\\n\\n{schema_str}\\n{input_str}\"\n",
    "\n",
    "\n",
    "chat = Chat(\"You are a helpful AI assistant validates string formats\")\n",
    "chat.add_user_message(user_message)\n",
    "res = chat.complete_chat()\n",
    "print(res)\n"
   ]
  },
  {
   "cell_type": "markdown",
   "metadata": {},
   "source": [
    "# Function to validate two strings\n",
    "\n",
    "\n"
   ]
  },
  {
   "cell_type": "code",
   "execution_count": 27,
   "metadata": {},
   "outputs": [],
   "source": [
    "from fibers.model.chat import Chat\n",
    "\n",
    "def validate_strings(schema_str, input_str):\n",
    "\n",
    "    chat = Chat(\"You are a helpful AI assistant that validates string formats\")\n",
    "    user_message = (\n",
    "        f\"Respond with Yes if the second string below matches the first string's format. \"\n",
    "         \"Respond with No otherwise.\\n\\n\"\n",
    "         f\"{schema_str}\\n{input_str}\"\n",
    "    )\n",
    "    chat.add_user_message(user_message)\n",
    "    return chat.complete_chat()\n",
    "\n"
   ]
  },
  {
   "cell_type": "code",
   "execution_count": 31,
   "metadata": {},
   "outputs": [
    {
     "name": "stdout",
     "output_type": "stream",
     "text": [
      "No\n"
     ]
    }
   ],
   "source": [
    "schema_str = \".linkedin.com/in/yousef-bulbulia/\"\n",
    "input_str = \"The weather is clear\"\n",
    "res = validate_strings(schema_str, input_str)\n",
    "print(res)"
   ]
  },
  {
   "cell_type": "code",
   "execution_count": null,
   "metadata": {},
   "outputs": [],
   "source": []
  }
 ],
 "metadata": {
  "kernelspec": {
   "display_name": "base",
   "language": "python",
   "name": "python3"
  },
  "language_info": {
   "codemirror_mode": {
    "name": "ipython",
    "version": 3
   },
   "file_extension": ".py",
   "mimetype": "text/x-python",
   "name": "python",
   "nbconvert_exporter": "python",
   "pygments_lexer": "ipython3",
   "version": "3.11.5"
  }
 },
 "nbformat": 4,
 "nbformat_minor": 2
}
