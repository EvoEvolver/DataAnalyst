{
 "cells": [
  {
   "cell_type": "markdown",
   "metadata": {},
   "source": [
    "### Correct responses\n",
    "13:00\n",
    "abcdef\n",
    "\n",
    "schema_str = \"https://www.youtube.com/\"\n",
    "input_str = \"https://www.aljazeera.com/\"\n",
    "\n",
    "schema_str = \"https://www.youtube.com/\"\n",
    "input_str = \"The weather is clear\"\n",
    "\n",
    "schema_str = \"34 kg\"\n",
    "input_str = \"52 kg\"\n",
    "\n",
    "### Incorrect responses\n",
    "\n",
    "\n",
    "### Both correct and incorrect\n",
    "13:00\n",
    "15:24\n",
    "\n",
    "### Vague on what is considered correct\n",
    "schema_str = \"34 lbs\"\n",
    "input_str = \"52 kg\"\n",
    "For this, it said they both follow the format of \"number unit\"\n",
    "\n",
    "schema_str = \"https://www.linkedin.com/in/yousef-bulbulia/\"\n",
    "input_str = \"https://github.com/Yousef-Bulbulia\"\n",
    "Response: \"Based on the provided strings, it seems like the first string is a LinkedIn profile URL and the second string is a GitHub profile URL. There is no specific format that both strings need to match, as they belong to different platforms and serve different purposes.\""
   ]
  },
  {
   "cell_type": "code",
   "execution_count": 9,
   "metadata": {},
   "outputs": [
    {
     "name": "stdout",
     "output_type": "stream",
     "text": [
      "Based on the provided strings, it seems like the first string is a LinkedIn profile URL and the second string is a GitHub profile URL. There is no specific format that both strings need to match, as they belong to different platforms and serve different purposes.\n"
     ]
    }
   ],
   "source": [
    "# Get validator response\n",
    "from fibers.model.chat import Chat\n",
    "\n",
    "schema_str = \"https://www.linkedin.com/in/yousef-bulbulia/\"\n",
    "input_str = \"https://github.com/Yousef-Bulbulia\"\n",
    "user_message = f\"Does the second string below match the first string's format, if there is even a format?\\n\\n{schema_str}\\n{input_str}\"\n",
    "\n",
    "\n",
    "chat = Chat(\"You are a helpful AI assistant validates string formats\")\n",
    "chat.add_user_message(user_message)\n",
    "res = chat.complete_chat()\n",
    "print(res)\n"
   ]
  },
  {
   "cell_type": "markdown",
   "metadata": {},
   "source": [
    "# Function to validate two strings\n",
    "\n",
    "\n"
   ]
  },
  {
   "cell_type": "code",
   "execution_count": 28,
   "metadata": {},
   "outputs": [],
   "source": [
    "from fibers.model.chat import Chat\n",
    "\n",
    "def validate_strings(schema_str, input_str):\n",
    "\n",
    "    chat = Chat(\"You are a helpful AI assistant that validates string formats\")\n",
    "    user_message = (\n",
    "        f\"Respond with Yes if the second string below matches the first string's format. \"\n",
    "         \"Respond with No otherwise.\\n\\n\"\n",
    "         f\"{schema_str}\\n{input_str}\"\n",
    "    )\n",
    "    chat.add_user_message(user_message)\n",
    "    return chat.complete_chat()\n",
    "\n"
   ]
  },
  {
   "cell_type": "code",
   "execution_count": 30,
   "metadata": {},
   "outputs": [
    {
     "name": "stdout",
     "output_type": "stream",
     "text": [
      "No\n"
     ]
    }
   ],
   "source": [
    "schema_str = \"Hello\"\n",
    "input_str = \"Goodbye\"\n",
    "res = validate_strings(schema_str, input_str)\n",
    "print(res)"
   ]
  },
  {
   "cell_type": "markdown",
   "metadata": {},
   "source": [
    "# Validator II"
   ]
  },
  {
   "cell_type": "markdown",
   "metadata": {},
   "source": [
    "### Validator I"
   ]
  },
  {
   "cell_type": "code",
   "execution_count": 24,
   "metadata": {},
   "outputs": [
    {
     "name": "stdout",
     "output_type": "stream",
     "text": [
      "Based on the information provided, it seems that String 2 does not match the format of String 1. String 1 appears to represent a weight in kilograms, while String 2 represents a weight in pounds.\n"
     ]
    }
   ],
   "source": [
    "# Get validator response\n",
    "from fibers.model.chat import Chat\n",
    "\n",
    "schema_str = \"https://www.linkedin.com/in/yousef-bulbulia/\"\n",
    "input_str = \"https://github.com/Yousef-Bulbulia\"\n",
    "user_message =( \n",
    "    f\"Does String 2 match the String 1's format, if there is even a format?\\n\\n\"\n",
    "    f\"String 1: {schema_str}\"\n",
    "    f\"String 2: {input_str}\"\n",
    ")\n",
    "\n",
    "\n",
    "chat = Chat(\"You are a helpful AI assistant validates string formats\")\n",
    "chat.add_user_message(user_message)\n",
    "res = chat.complete_chat()\n",
    "print(res)"
   ]
  },
  {
   "cell_type": "markdown",
   "metadata": {},
   "source": [
    "### Key value pairs with User request"
   ]
  },
  {
   "cell_type": "code",
   "execution_count": 26,
   "metadata": {},
   "outputs": [
    {
     "name": "stdout",
     "output_type": "stream",
     "text": [
      "No, the second key's value does not match the format of the first key's value. The first key's value appears to be a LinkedIn profile URL, while the second key's value appears to be a GitHub profile URL.\n"
     ]
    }
   ],
   "source": [
    "# Get validator response\n",
    "from fibers.model.chat import Chat\n",
    "\n",
    "schema_str = \"Account_link: https://www.linkedin.com/in/yousef-bulbulia/\"\n",
    "input_str = \"Account_link: https://github.com/Yousef-Bulbulia\"\n",
    "user_context_str = \"Give me the % of users that have a website\"\n",
    "# user_message = f\"Does the second string below match the first string's format, if there is even a format?\\n\\n{schema_str}\\n{input_str}\"\n",
    "user_message =( \n",
    "    f\"Say a user of an analysis program asks the following: {user_context_str}\\n\\n\"\n",
    "    f\"Does the second key's value below match the first key below's value's format, if there is even a format?\\n\\n{schema_str}\\n{input_str}\"\n",
    ")\n",
    "\n",
    "chat = Chat(\"You are a helpful AI assistant validates string formats\")\n",
    "chat.add_user_message(user_message)\n",
    "res = chat.complete_chat()\n",
    "print(res)\n"
   ]
  },
  {
   "cell_type": "markdown",
   "metadata": {},
   "source": [
    "### Key value pairs"
   ]
  },
  {
   "cell_type": "code",
   "execution_count": 3,
   "metadata": {},
   "outputs": [
    {
     "name": "stdout",
     "output_type": "stream",
     "text": [
      "Yes, the second key's value does match the format of the first key's value. Both values are in the format of a valid URL.\n"
     ]
    }
   ],
   "source": [
    "# Get validator response\n",
    "from fibers.model.chat import Chat\n",
    "\n",
    "schema_str = \"Account_link: https://www.linkedin.com/in/yousef-bulbulia/\"\n",
    "input_str = \"Account_link: https://github.com/Yousef-Bulbulia\"\n",
    "# user_message = f\"Does the second string below match the first string's format, if there is even a format?\\n\\n{schema_str}\\n{input_str}\"\n",
    "user_message =( \n",
    "    f\"Does the second key's value below match the first key's value's format, if there is even a format?\\n\\n{schema_str}\\n{input_str}\"\n",
    ")\n",
    "\n",
    "chat = Chat(\"You are a helpful AI assistant validates string formats\")\n",
    "chat.add_user_message(user_message)\n",
    "res = chat.complete_chat()\n",
    "print(res)"
   ]
  },
  {
   "cell_type": "code",
   "execution_count": 11,
   "metadata": {},
   "outputs": [
    {
     "name": "stdout",
     "output_type": "stream",
     "text": [
      "No, String 2 does not match the format of String 1. String 1 is in the format of a LinkedIn profile URL (starting with \"https://www.linkedin.com/in/\"), while String 2 is in the format of a GitHub profile URL (starting with \"https://github.com/\").\n"
     ]
    }
   ],
   "source": [
    "### Key value pairs with User request\n",
    "# Get validator response\n",
    "from fibers.model.chat import Chat\n",
    "\n",
    "schema_str = \"https://www.linkedin.com/in/yousef-bulbulia/\"\n",
    "input_str = \"https://github.com/Yousef-Bulbulia\"\n",
    "user_context_str = \"Give me the % of users that use premium\"\n",
    "# user_message = f\"Does the second string below match the first string's format, if there is even a format?\\n\\n{schema_str}\\n{input_str}\"\n",
    "user_message =( \n",
    "    f\"Say a user of an analysis program asks the following: {user_context_str}\\n\\n\"\n",
    "    f\"Does String 2 match the String 1's format, if there is even a format?\\n\\n\"\n",
    "    f\"String 1: {schema_str}\"\n",
    "    f\"String 2: {input_str}\"\n",
    ")\n",
    "\n",
    "chat = Chat(\"You are a helpful AI assistant validates string formats\")\n",
    "chat.add_user_message(user_message)\n",
    "res = chat.complete_chat()\n",
    "print(res)\n"
   ]
  },
  {
   "cell_type": "markdown",
   "metadata": {},
   "source": [
    "## Results"
   ]
  },
  {
   "cell_type": "markdown",
   "metadata": {},
   "source": [
    "#### Correct (key value pair & user request)\n",
    "\n",
    "Expected: No\n",
    "schema_str = \"Account_link: https://www.linkedin.com/in/yousef-bulbulia/\" <br>\n",
    "input_str = \"Account_link: https://github.com/Yousef-Bulbulia\" <br>\n",
    "user_context_str = \"Give me the % of users that use premium\" <br>\n",
    "\n",
    "Expected: Yes\n",
    "schema_str = \"Account_link: https://www.linkedin.com/in/yousef-bulbulia/\"\n",
    "input_str = \"Account_link: https://github.com/Yousef-Bulbulia\"\n",
    "user_context_str = \"Give me the % of users that have a Linkedin or GitHub\"\n",
    "\n",
    "Expected: Yes\n",
    "schema_str = \"Link: https://www.linkedin.com/in/yousef-bulbulia/\"\n",
    "input_str = \"Link: https://github.com/Yousef-Bulbulia\"\n",
    "user_context_str = \"Give me the % of users that provided a social media link\"\n",
    "\n",
    "\n",
    "### Incorrect (key vaulue pair & user request)\n",
    "\n",
    "Expected: Yes\n",
    "schema_str = \"Account_link: https://www.linkedin.com/in/yousef-bulbulia/\" <br>\n",
    "input_str = \"Account_link: https://github.com/Yousef-Bulbulia\" <br>\n",
    "user_context_str = \"Give me the % of users that have a website\"\n",
    "\n",
    "Incorrect responses:\n",
    "- The second key's value does not match the format of the first key's value. The first key's value appears to be in a URL format, while the second key's value also appears to be in a URL format.\n",
    "- No, the second key's value does not match the first key's value format. The first key's value is a LinkedIn profile link, whereas the second key's value is a GitHub profile link"
   ]
  },
  {
   "cell_type": "markdown",
   "metadata": {},
   "source": []
  }
 ],
 "metadata": {
  "kernelspec": {
   "display_name": "base",
   "language": "python",
   "name": "python3"
  },
  "language_info": {
   "codemirror_mode": {
    "name": "ipython",
    "version": 3
   },
   "file_extension": ".py",
   "mimetype": "text/x-python",
   "name": "python",
   "nbconvert_exporter": "python",
   "pygments_lexer": "ipython3",
   "version": "3.11.5"
  }
 },
 "nbformat": 4,
 "nbformat_minor": 2
}
