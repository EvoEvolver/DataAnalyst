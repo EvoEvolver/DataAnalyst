{
 "cells": [
  {
   "cell_type": "markdown",
   "metadata": {},
   "source": [
    "# Validator\n"
   ]
  },
  {
   "cell_type": "code",
   "execution_count": null,
   "metadata": {},
   "outputs": [
    {
     "name": "stdout",
     "output_type": "stream",
     "text": [
      "{'img': 'http://www...', 'egg': '2 km', 'spawn_time': '20:00'}\n"
     ]
    }
   ],
   "source": [
    "# Read in and truncate json to get schema\n",
    "\n",
    "from JSON_shortener2 import *\n",
    "MAX_JSON_LENGTH = 100000\n",
    "MAX_STR_LENTH = 10\n",
    "with open(\"pokemon_schema.json\", \"r\") as f:\n",
    "    schema = extract_JSON_structure(f.read(), MAX_JSON_LENGTH, MAX_STR_LENTH)\n",
    "print(schema)"
   ]
  },
  {
   "cell_type": "markdown",
   "metadata": {},
   "source": [
    "### Designing the validator prompt\n",
    "\n",
    "My original prompt was along the lines of \n",
    "\n",
    "> Given the following JSON with possibly truncated fields: {schema}\n",
    "> \n",
    "> Give me a Python function that checks if an input JSON follows the same schema\n",
    "\n",
    "However, this response, and responses to many other prompts I tried, had the following errors:\n",
    "- The function would import packages that were not available in this Python kernel, so you had to use commands to install them first\n",
    "- The function was bad at validating based on value structure: it did not take into account anything other than the JSONs having the same keys and same types for the values\n",
    "    - For example, if the schema had a value like \"52 kg\", and the input's value was \"abcd\", this would return True, even though it is not a number, nor does it have kg units.\n",
    "    - Another example, if the schema had a value like \"13:00\", and the input's value was \"2300\", this would return True, even though it is not formatted as a time.\n",
    "- The function has errors in it, like variables that are referenced without ever being initalized or declared\n",
    "\n",
    "As such, my user message became longer in order to make a more detailed request, but this negates the effect of truncating our JSON because now we're using more tokens\n",
    "\n",
    "Note that this user message is still not that good. It may give false positives or negatives, and it may produce code errors."
   ]
  },
  {
   "cell_type": "code",
   "execution_count": 27,
   "metadata": {},
   "outputs": [
    {
     "name": "stdout",
     "output_type": "stream",
     "text": [
      "Here's an example implementation of the `check_schema` function:\n",
      "\n",
      "```python\n",
      "def check_schema(json_dict, json_module):\n",
      "    # Get the keys from the input JSON\n",
      "    input_keys = set(json_dict.keys())\n",
      "\n",
      "    # Load the JSON module dynamically\n",
      "    json_dict_module = __import__(json_module)\n",
      "\n",
      "    # Load a sample JSON to infer the schema\n",
      "    sample_json = json_dict_module.loads(json_dict_module.dumps(json_dict))\n",
      "    \n",
      "    # Get the keys from the sample JSON\n",
      "    sample_keys = set(sample_json.keys())\n",
      "\n",
      "    # Check if the keys match\n",
      "    if input_keys != sample_keys:\n",
      "        return False\n",
      "\n",
      "    # Iterate over the keys and check the value types\n",
      "    for key in input_keys:\n",
      "        input_value = json_dict[key]\n",
      "        sample_value = sample_json[key]\n",
      "        \n",
      "        # Check only the general type of the value\n",
      "        if type(input_value) != type(sample_value):\n",
      "            return False\n",
      "\n",
      "        # Additional checks for specific keys or value types can be added here\n",
      "        # For example, checking if a value is a link\n",
      "        if key == 'img' and not input_value.startswith('http'):\n",
      "            return False\n",
      "\n",
      "    # If all checks pass, return True\n",
      "    return True\n",
      "```\n",
      "\n",
      "To use this function, pass your JSON as a dictionary and the name of the `json` module to import as the `json_module` parameter. For example:\n",
      "\n",
      "```python\n",
      "json_dict = {\n",
      "    'img': 'http://www...',\n",
      "    'egg': '2 km',\n",
      "    'spawn_time': '20:00'\n",
      "}\n",
      "\n",
      "result = check_schema(json_dict, 'json')\n",
      "print(result)  # Output: True\n",
      "```\n",
      "\n",
      "Please note that this code assumes that the input JSON is in a valid format and doesn't handle any exceptions related to JSON parsing or schema checking.\n"
     ]
    }
   ],
   "source": [
    "# Get validator response\n",
    "from fibers.model.chat import Chat\n",
    "\n",
    "# This is the best performing user message I could create so far\n",
    "user_message = (\n",
    "    \"Here is a JSON with some fields, possibly truncated:\\n\"\n",
    "    f\"{schema}\\n\\n\"\n",
    "\n",
    "    \"Without requiring any imports other than `json`, generate a Python function called `check_schema`. \"\n",
    "    \"This function should take as input a JSON as a dictionary and a parameter called `json_module` (which will later be passed \"\n",
    "    \"as the `json` module to import). The function should dynamically infer a schema from the provided JSON and check \"\n",
    "    \"whether the input JSON follows a similar structure.\\n\\n\"\n",
    "\n",
    "    \"The schema comparison should consider the following:\\n\"\n",
    "    \"- Both JSONs should have the same keys.\\n\"\n",
    "    \"- The values for each key should have the same general type (e.g., str, int, float).\\n\"\n",
    "    \"- Additional checks can be performed for specific keys or value types, such as links, file contents, or time formats.\\n\\n\"\n",
    "\n",
    "    \"The function should return `True` if the input JSON follows a similar structure and `False` otherwise.\"\n",
    ")\n",
    "\n",
    "\n",
    "chat = Chat(\"You are a helpful AI assistant that writes code\")\n",
    "chat.add_user_message(user_message)\n",
    "res = chat.complete_chat()\n",
    "print(res)\n"
   ]
  },
  {
   "cell_type": "code",
   "execution_count": 28,
   "metadata": {},
   "outputs": [
    {
     "name": "stdout",
     "output_type": "stream",
     "text": [
      "def check_schema(json_dict, json_module):\n",
      "    # Get the keys from the input JSON\n",
      "    input_keys = set(json_dict.keys())\n",
      "\n",
      "    # Load the JSON module dynamically\n",
      "    json_dict_module = __import__(json_module)\n",
      "\n",
      "    # Load a sample JSON to infer the schema\n",
      "    sample_json = json_dict_module.loads(json_dict_module.dumps(json_dict))\n",
      "    \n",
      "    # Get the keys from the sample JSON\n",
      "    sample_keys = set(sample_json.keys())\n",
      "\n",
      "    # Check if the keys match\n",
      "    if input_keys != sample_keys:\n",
      "        return False\n",
      "\n",
      "    # Iterate over the keys and check the value types\n",
      "    for key in input_keys:\n",
      "        input_value = json_dict[key]\n",
      "        sample_value = sample_json[key]\n",
      "        \n",
      "        # Check only the general type of the value\n",
      "        if type(input_value) != type(sample_value):\n",
      "            return False\n",
      "\n",
      "        # Additional checks for specific keys or value types can be added here\n",
      "        # For example, checking if a value is a link\n",
      "        if key == 'img' and not input_value.startswith('http'):\n",
      "            return False\n",
      "\n",
      "    # If all checks pass, return True\n",
      "    return True\n",
      "\n"
     ]
    }
   ],
   "source": [
    "# Retrieve only the function code\n",
    "\n",
    "validator = res.split(\"```python\\n\")[1].split(\"```\")[0]\n",
    "\n",
    "print(validator)"
   ]
  },
  {
   "cell_type": "code",
   "execution_count": 29,
   "metadata": {},
   "outputs": [
    {
     "name": "stdout",
     "output_type": "stream",
     "text": [
      "{'img': 'http://www.serebii.net/pokemongo/pokemon/006.png', 'egg': '5 km', 'spawn_time': '13:34'}\n"
     ]
    }
   ],
   "source": [
    "# Get the input JSON\n",
    "\n",
    "import json\n",
    "\n",
    "json_file_path = 'pokemon_input.json'\n",
    "\n",
    "# Open the JSON file and load its content into a dictionary\n",
    "with open(json_file_path, 'r') as json_file:\n",
    "    json_input = json.load(json_file)\n",
    "print(json_input)"
   ]
  },
  {
   "cell_type": "code",
   "execution_count": 30,
   "metadata": {},
   "outputs": [
    {
     "ename": "TypeError",
     "evalue": "module name must be a string",
     "output_type": "error",
     "traceback": [
      "\u001b[1;31m---------------------------------------------------------------------------\u001b[0m",
      "\u001b[1;31mTypeError\u001b[0m                                 Traceback (most recent call last)",
      "\u001b[1;32mc:\\Users\\youse\\OneDrive\\Documents\\University\\Research\\MatterLab\\DataAnalyst\\validator copy.ipynb Cell 7\u001b[0m line \u001b[0;36m7\n\u001b[0;32m      <a href='vscode-notebook-cell:/c%3A/Users/youse/OneDrive/Documents/University/Research/MatterLab/DataAnalyst/validator%20copy.ipynb#X24sZmlsZQ%3D%3D?line=3'>4</a>\u001b[0m function_locals \u001b[39m=\u001b[39m {\u001b[39m'\u001b[39m\u001b[39mjson_input\u001b[39m\u001b[39m'\u001b[39m: json_input, \u001b[39m'\u001b[39m\u001b[39mjson\u001b[39m\u001b[39m'\u001b[39m: json}\n\u001b[0;32m      <a href='vscode-notebook-cell:/c%3A/Users/youse/OneDrive/Documents/University/Research/MatterLab/DataAnalyst/validator%20copy.ipynb#X24sZmlsZQ%3D%3D?line=5'>6</a>\u001b[0m exec(validator, function_globals, function_locals)\n\u001b[1;32m----> <a href='vscode-notebook-cell:/c%3A/Users/youse/OneDrive/Documents/University/Research/MatterLab/DataAnalyst/validator%20copy.ipynb#X24sZmlsZQ%3D%3D?line=6'>7</a>\u001b[0m res \u001b[39m=\u001b[39m function_locals[\u001b[39m'\u001b[39;49m\u001b[39mcheck_schema\u001b[39;49m\u001b[39m'\u001b[39;49m](json_input, json)\n\u001b[0;32m      <a href='vscode-notebook-cell:/c%3A/Users/youse/OneDrive/Documents/University/Research/MatterLab/DataAnalyst/validator%20copy.ipynb#X24sZmlsZQ%3D%3D?line=7'>8</a>\u001b[0m \u001b[39mprint\u001b[39m(res)\n",
      "File \u001b[1;32m<string>:6\u001b[0m, in \u001b[0;36mcheck_schema\u001b[1;34m(json_dict, json_module)\u001b[0m\n",
      "\u001b[1;31mTypeError\u001b[0m: module name must be a string"
     ]
    }
   ],
   "source": [
    "# Validate\n",
    "\n",
    "function_globals = {}\n",
    "function_locals = {'json_input': json_input, 'json': json}\n",
    "\n",
    "exec(validator, function_globals, function_locals)\n",
    "res = function_locals['check_schema'](json_input, json)\n",
    "print(res)"
   ]
  }
 ],
 "metadata": {
  "kernelspec": {
   "display_name": "base",
   "language": "python",
   "name": "python3"
  },
  "language_info": {
   "codemirror_mode": {
    "name": "ipython",
    "version": 3
   },
   "file_extension": ".py",
   "mimetype": "text/x-python",
   "name": "python",
   "nbconvert_exporter": "python",
   "pygments_lexer": "ipython3",
   "version": "3.11.5"
  }
 },
 "nbformat": 4,
 "nbformat_minor": 2
}
